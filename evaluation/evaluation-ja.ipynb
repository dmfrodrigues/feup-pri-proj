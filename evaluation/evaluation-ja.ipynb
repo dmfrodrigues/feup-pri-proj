{
 "cells": [
  {
   "cell_type": "code",
   "execution_count": 48,
   "metadata": {},
   "outputs": [],
   "source": [
    "import pandas as pd\n",
    "import numpy as np \n",
    "import matplotlib.pyplot as plt "
   ]
  },
  {
   "cell_type": "code",
   "execution_count": 49,
   "metadata": {},
   "outputs": [],
   "source": [
    "def get_df(filename):\n",
    "    df = pd.read_csv(filename, delimiter=\",\\t\", names=['P@n', 'R@n','F@n'])\n",
    "    df['F@n'] = df['F@n'].replace({',':''}, regex=True)\n",
    "    df = df.astype('float64')\n",
    "    return df\n",
    "\n",
    "df_1 = get_df('query1.csv')\n",
    "#df_2 = get_df('query2.csv')\n",
    "#df_3 = get_df('query3.csv')\n",
    "#df_4 = get_df('query4.csv')\n",
    "#df_5 = get_df('query5.csv')\n",
    "#df_6 = get_df('query6.csv')\n",
    "#df_7 = get_df('query7.csv')"
   ]
  },
  {
   "cell_type": "code",
   "execution_count": 51,
   "metadata": {},
   "outputs": [
    {
     "data": {
      "image/png": "[encoded data removed]",
      "text/plain": [
       "<Figure size 1080x216 with 1 Axes>"
      ]
     },
     "metadata": {
      "needs_background": "light"
     },
     "output_type": "display_data"
    }
   ],
   "source": [
    "def triple_bar_plot(df):\n",
    "    df.plot(kind='bar', figsize=(15,3), xlabel='n', rot=0, width=0.8)\n",
    "    plt.legend(loc='best')\n",
    "\n",
    "triple_bar_plot(df_1)"
   ]
  },
  {
   "cell_type": "code",
   "execution_count": null,
   "metadata": {},
   "outputs": [],
   "source": []
  },
  {
   "cell_type": "code",
   "execution_count": null,
   "metadata": {},
   "outputs": [],
   "source": []
  }
 ],
 "metadata": {
  "kernelspec": {
   "display_name": "Python 3",
   "language": "python",
   "name": "python3"
  },
  "language_info": {
   "codemirror_mode": {
    "name": "ipython",
    "version": 3
   },
   "file_extension": ".py",
   "mimetype": "text/x-python",
   "name": "python",
   "nbconvert_exporter": "python",
   "pygments_lexer": "ipython3",
   "version": "3.7.2"
  }
 },
 "nbformat": 4,
 "nbformat_minor": 2
}
