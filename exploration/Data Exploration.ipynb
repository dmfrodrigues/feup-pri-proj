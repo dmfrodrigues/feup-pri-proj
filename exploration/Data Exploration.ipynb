{
 "cells": [
  {
   "cell_type": "code",
   "execution_count": 1,
   "metadata": {},
   "outputs": [],
   "source": [
    "import pandas as pd\n",
    "import matplotlib.pyplot as plt\n",
    "import seaborn as sns\n",
    "import numpy as np"
   ]
  },
  {
   "cell_type": "markdown",
   "metadata": {},
   "source": [
    "# Data Exploration\n",
    "\n",
    "Let's start by importing the data:"
   ]
  },
  {
   "cell_type": "code",
   "execution_count": 2,
   "metadata": {},
   "outputs": [],
   "source": [
    "data = pd.read_csv(\"../data/eurlex/combined.csv\", sep=\",\", quotechar=\"'\")\n",
    "data = data.astype({\n",
    "    'form': 'category'\n",
    "})\n",
    "\n",
    "data['date'        ] = pd.to_datetime(data['date'        ])\n",
    "data['oj_date'     ] = pd.to_datetime(data['oj_date'     ])\n",
    "data['of_effect'   ] = pd.to_datetime(data['of_effect'   ])\n",
    "data['end_validity'] = pd.to_datetime(data['end_validity'])"
   ]
  },
  {
   "cell_type": "markdown",
   "metadata": {},
   "source": [
    "## Basic statistics"
   ]
  },
  {
   "cell_type": "markdown",
   "metadata": {},
   "source": [
    "Number of documents:"
   ]
  },
  {
   "cell_type": "code",
   "execution_count": 5,
   "metadata": {},
   "outputs": [
    {
     "data": {
      "text/plain": [
       "126472"
      ]
     },
     "execution_count": 5,
     "metadata": {},
     "output_type": "execute_result"
    }
   ],
   "source": [
    "len(data)\n",
    "\n"
   ]
  },
  {
   "cell_type": "markdown",
   "metadata": {},
   "source": [
    "Number of missing elements:"
   ]
  },
  {
   "cell_type": "code",
   "execution_count": 8,
   "metadata": {},
   "outputs": [
    {
     "name": "stdout",
     "output_type": "stream",
     "text": [
      "                     Count    Percent\n",
      "celex                    0   0.000000\n",
      "form                     0   0.000000\n",
      "date                  1990   1.573471\n",
      "title                    2   0.001581\n",
      "oj_date               2929   2.315928\n",
      "of_effect            19308  15.266620\n",
      "end_validity         31480  24.890885\n",
      "addressee            99080  78.341451\n",
      "subject_matter       29250  23.127649\n",
      "directory_codes      37753  29.850876\n",
      "eurovoc_descriptors  33586  26.556076\n",
      "legal_basis           9412   7.441963\n",
      "relationships         1089   0.861060\n",
      "text                     0   0.000000\n"
     ]
    }
   ],
   "source": [
    "total = data.isnull().sum()\n",
    "percent = data.isnull().sum()/data.isnull().count()*100.0\n",
    "missing_data = pd.concat([total, percent], axis=1, keys=['Count', 'Percent'])\n",
    "print(missing_data)"
   ]
  },
  {
   "cell_type": "markdown",
   "metadata": {},
   "source": [
    "### form"
   ]
  },
  {
   "cell_type": "code",
   "execution_count": 10,
   "metadata": {},
   "outputs": [
    {
     "data": {
      "text/plain": [
       "count        126472\n",
       "unique            1\n",
       "top       Agreement\n",
       "freq         126472\n",
       "Name: form, dtype: object"
      ]
     },
     "execution_count": 10,
     "metadata": {},
     "output_type": "execute_result"
    }
   ],
   "source": [
    "data['form'].describe()"
   ]
  },
  {
   "cell_type": "markdown",
   "metadata": {},
   "source": [
    "### date"
   ]
  },
  {
   "cell_type": "code",
   "execution_count": 9,
   "metadata": {},
   "outputs": [
    {
     "data": {
      "text/plain": [
       "count                           124482\n",
       "mean     1995-03-20 02:01:34.047332096\n",
       "min                1949-09-24 00:00:00\n",
       "25%                1986-06-23 00:00:00\n",
       "50%                1997-03-10 00:00:00\n",
       "75%                2004-04-21 00:00:00\n",
       "max                2013-10-04 00:00:00\n",
       "Name: date, dtype: object"
      ]
     },
     "execution_count": 9,
     "metadata": {},
     "output_type": "execute_result"
    }
   ],
   "source": [
    "data['date'].describe(datetime_is_numeric=True)"
   ]
  },
  {
   "cell_type": "markdown",
   "metadata": {},
   "source": [
    "### title"
   ]
  },
  {
   "cell_type": "code",
   "execution_count": 11,
   "metadata": {},
   "outputs": [
    {
     "data": {
      "text/plain": [
       "count                                                126470\n",
       "unique                                               125265\n",
       "top       This corrigendum does not concern the English ...\n",
       "freq                                                     58\n",
       "Name: title, dtype: object"
      ]
     },
     "execution_count": 11,
     "metadata": {},
     "output_type": "execute_result"
    }
   ],
   "source": [
    "data['title'].describe()"
   ]
  },
  {
   "cell_type": "markdown",
   "metadata": {},
   "source": [
    "### oj_date"
   ]
  },
  {
   "cell_type": "code",
   "execution_count": 13,
   "metadata": {},
   "outputs": [
    {
     "data": {
      "text/plain": [
       "count                        123543\n",
       "mean     1995-03-01 20:52:19.739200\n",
       "min             1952-12-30 00:00:00\n",
       "25%             1986-06-21 00:00:00\n",
       "50%             1997-01-25 00:00:00\n",
       "75%             2004-02-27 00:00:00\n",
       "max             2013-10-22 00:00:00\n",
       "Name: oj_date, dtype: object"
      ]
     },
     "execution_count": 13,
     "metadata": {},
     "output_type": "execute_result"
    }
   ],
   "source": [
    "data['oj_date'].describe(datetime_is_numeric=True)"
   ]
  },
  {
   "cell_type": "markdown",
   "metadata": {},
   "source": [
    "### of_effect"
   ]
  },
  {
   "cell_type": "code",
   "execution_count": 14,
   "metadata": {},
   "outputs": [
    {
     "data": {
      "text/plain": [
       "count                           107164\n",
       "mean     1995-09-21 11:55:19.428166272\n",
       "min                1953-01-01 00:00:00\n",
       "25%                1987-10-01 00:00:00\n",
       "50%                1997-06-24 00:00:00\n",
       "75%                2004-05-07 00:00:00\n",
       "max                2017-01-01 00:00:00\n",
       "Name: of_effect, dtype: object"
      ]
     },
     "execution_count": 14,
     "metadata": {},
     "output_type": "execute_result"
    }
   ],
   "source": [
    "data['of_effect'].describe(datetime_is_numeric=True)"
   ]
  },
  {
   "cell_type": "markdown",
   "metadata": {},
   "source": [
    "### end_validity"
   ]
  },
  {
   "cell_type": "code",
   "execution_count": 15,
   "metadata": {},
   "outputs": [
    {
     "data": {
      "text/plain": [
       "count                            94992\n",
       "mean     2032-05-06 06:13:50.419403264\n",
       "min                1954-01-07 00:00:00\n",
       "25%                1988-03-01 00:00:00\n",
       "50%                2002-01-29 12:00:00\n",
       "75%                2100-01-01 00:00:00\n",
       "max                2100-01-01 00:00:00\n",
       "Name: end_validity, dtype: object"
      ]
     },
     "execution_count": 15,
     "metadata": {},
     "output_type": "execute_result"
    }
   ],
   "source": [
    "data['end_validity'].describe(datetime_is_numeric=True)"
   ]
  },
  {
   "cell_type": "markdown",
   "metadata": {},
   "source": [
    "### addressee"
   ]
  },
  {
   "cell_type": "code",
   "execution_count": 16,
   "metadata": {},
   "outputs": [
    {
     "data": {
      "text/plain": [
       "count                 27392\n",
       "unique                 2788\n",
       "top       The Member States\n",
       "freq                  11771\n",
       "Name: addressee, dtype: object"
      ]
     },
     "execution_count": 16,
     "metadata": {},
     "output_type": "execute_result"
    }
   ],
   "source": [
    "data['addressee'].describe()"
   ]
  },
  {
   "cell_type": "markdown",
   "metadata": {},
   "source": [
    "## Histogram Date"
   ]
  },
  {
   "cell_type": "code",
   "execution_count": 1,
   "metadata": {},
   "outputs": [],
   "source": [
    "import sys\n",
    "\n",
    "import numpy as np\n",
    "import pandas as pd\n",
    "import matplotlib.pyplot as plt\n",
    "import matplotlib.dates as mdates\n",
    "import datetime\n",
    "\n",
    "import csv"
   ]
  },
  {
   "cell_type": "code",
   "execution_count": 2,
   "metadata": {},
   "outputs": [],
   "source": [
    "f = open(\"../data/eurlex/filtered.csv\", \"r\")\n",
    "r = csv.reader(f, quotechar=\"'\")\n",
    "columns = next(r)\n",
    "celex_idx = columns.index(\"celex\")\n",
    "date_idx = columns.index(\"date\")"
   ]
  },
  {
   "cell_type": "code",
   "execution_count": 3,
   "metadata": {},
   "outputs": [
    {
     "name": "stderr",
     "output_type": "stream",
     "text": [
      "Failed to find date for 5906 documents\n"
     ]
    },
    {
     "name": "stdout",
     "output_type": "stream",
     "text": [
      "min=1949-09-24\n",
      "max=2013-10-04\n"
     ]
    },
    {
     "data": {
      "image/png": "[encoded data removed]",
      "text/plain": [
       "<Figure size 432x288 with 1 Axes>"
      ]
     },
     "metadata": {
      "needs_background": "light"
     },
     "output_type": "display_data"
    }
   ],
   "source": [
    "dates = []\n",
    "mpl_dates = []\n",
    "\n",
    "no_date = 0\n",
    "for row in r:\n",
    "    d = row[date_idx]\n",
    "    d2 = row[date_idx]\n",
    "    if d != \"\":\n",
    "        dates.append(d)\n",
    "        mpl_dates.append(mdates.datestr2num(d))\n",
    "    else:\n",
    "        no_date += 1\n",
    "\n",
    "print(f'Failed to find date for {no_date} documents', file=sys.stderr)\n",
    "\n",
    "print(f'min={min(dates)}')\n",
    "print(f'max={max(dates)}')\n",
    "\n",
    "# the histogram of the data\n",
    "fig, ax = plt.subplots(1,1)\n",
    "plt.grid(linestyle='dashed', axis=\"x\", color=(0, 0, 0, 0.25), zorder=-1)\n",
    "plt.grid(linestyle='dashed', axis=\"y\", color=(0, 0, 0, 0.25), zorder=1)\n",
    "ax.hist(mpl_dates, bins=65, edgecolor='black', linewidth=0.5, range=(mdates.datestr2num(\"1949-01-01\"), mdates.datestr2num(\"2014-01-01\")), zorder=0)\n",
    "ax.xaxis.set_major_locator(mdates.YearLocator(5))\n",
    "ax.xaxis.set_major_formatter(mdates.DateFormatter('%Y'))\n",
    "ax.set_xlim([datetime.date(1949, 1, 1), datetime.date(2014, 1, 1)])\n",
    "ax.set_ylim([0, 5000])\n",
    "plt.xticks(rotation=90)\n",
    "plt.yticks(range(0, 5001, 500))\n",
    "plt.show()"
   ]
  },
  {
   "cell_type": "markdown",
   "metadata": {},
   "source": [
    "## Histogram Type - to fix"
   ]
  },
  {
   "cell_type": "code",
   "execution_count": 4,
   "metadata": {},
   "outputs": [
    {
     "data": {
      "text/plain": [
       "<matplotlib.axes._subplots.AxesSubplot at 0x11f194198>"
      ]
     },
     "execution_count": 4,
     "metadata": {},
     "output_type": "execute_result"
    },
    {
     "data": {
      "image/png": "[encoded data removed]",
      "text/plain": [
       "<Figure size 432x288 with 1 Axes>"
      ]
     },
     "metadata": {
      "needs_background": "light"
     },
     "output_type": "display_data"
    }
   ],
   "source": [
    "df = pd.read_csv(\"../data/eurlex/filtered.csv\", sep=\",\", quotechar=\"'\")\n",
    "\n",
    "\n",
    "df.groupby('form').size().plot(kind='bar', rot=0)"
   ]
  },
  {
   "cell_type": "markdown",
   "metadata": {},
   "source": [
    "## Histogram Subject - to fix"
   ]
  },
  {
   "cell_type": "code",
   "execution_count": 18,
   "metadata": {},
   "outputs": [
    {
     "data": {
      "text/plain": [
       "Index(['Accession;Common customs tariff;Protective measures',\n",
       "       'Development cooperation;External relations;public health',\n",
       "       'African Caribbean and Pacific States;common commercial policy;Provisions under Article 235 EEC',\n",
       "       'Agriculture;CCT: franchise;Provisions under Article 235 EEC',\n",
       "       'Environment;Foodstuffs;Plant health legislation',\n",
       "       'Coordination of structural instruments;economic;European Social Fund;social and territorial cohesion',\n",
       "       'common commercial policy;Hops',\n",
       "       'Agricultural structures;Agriculture;Regional policy',\n",
       "       'objectives and tasks of the Treaties;Principles;Social provisions',\n",
       "       'Energy;Provisions under Article 235 EEC;Research and training'],\n",
       "      dtype='object')"
      ]
     },
     "execution_count": 18,
     "metadata": {},
     "output_type": "execute_result"
    }
   ],
   "source": [
    "df = pd.read_csv(\"../data/eurlex/filtered.csv\", sep=\",\", quotechar=\"'\")\n",
    "\n",
    "# df.groupby('subject_matter').size(3).plot(kind='bar', rot=0)\n",
    "df['subject_matter'].value_counts()[df['subject_matter'].value_counts().head(10)].index"
   ]
  },
  {
   "cell_type": "code",
   "execution_count": null,
   "metadata": {},
   "outputs": [],
   "source": []
  }
 ],
 "metadata": {
  "interpreter": {
   "hash": "916dbcbb3f70747c44a77c7bcd40155683ae19c65e1c03b4aa3499c5328201f1"
  },
  "kernelspec": {
   "display_name": "Python 3.8.10 64-bit",
   "name": "python3"
  },
  "language_info": {
   "codemirror_mode": {
    "name": "ipython",
    "version": 3
   },
   "file_extension": ".py",
   "mimetype": "text/x-python",
   "name": "python",
   "nbconvert_exporter": "python",
   "pygments_lexer": "ipython3",
   "version": "3.8.10"
  }
 },
 "nbformat": 4,
 "nbformat_minor": 4
}
