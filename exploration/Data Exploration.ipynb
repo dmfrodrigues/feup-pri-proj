{
 "cells": [
  {
   "cell_type": "code",
   "execution_count": 9,
   "metadata": {},
   "outputs": [],
   "source": [
    "import os, sys, json, csv\n",
    "import pandas as pd\n",
    "import matplotlib.pyplot as plt\n",
    "import matplotlib.dates as mdates\n",
    "import numpy as np\n",
    "import datetime\n",
    "\n",
    "csv.field_size_limit(sys.maxsize);"
   ]
  },
  {
   "cell_type": "markdown",
   "metadata": {},
   "source": [
    "# Data Exploration\n",
    "\n",
    "Let's start by importing the data:"
   ]
  },
  {
   "cell_type": "code",
   "execution_count": 2,
   "metadata": {},
   "outputs": [],
   "source": [
    "data = pd.read_csv(\"../data/eurlex/combined.csv\", sep=\",\")\n",
    "data = data.astype({\n",
    "    'form': 'category'\n",
    "})\n",
    "\n",
    "data['date'        ] = pd.to_datetime(data['date'        ])\n",
    "data['oj_date'     ] = pd.to_datetime(data['oj_date'     ])\n",
    "data['of_effect'   ] = pd.to_datetime(data['of_effect'   ])\n",
    "data['end_validity'] = pd.to_datetime(data['end_validity'])"
   ]
  },
  {
   "cell_type": "markdown",
   "metadata": {},
   "source": [
    "## Basic statistics"
   ]
  },
  {
   "cell_type": "code",
   "execution_count": 10,
   "metadata": {},
   "outputs": [],
   "source": [
    "def count_lines(r):\n",
    "    ret = 0\n",
    "    for row in r:\n",
    "        ret += 1\n",
    "    return ret"
   ]
  },
  {
   "cell_type": "code",
   "execution_count": 11,
   "metadata": {},
   "outputs": [
    {
     "name": "stdout",
     "output_type": "stream",
     "text": [
      "138911 entries -- 387.8MB\n"
     ]
    }
   ],
   "source": [
    "print(str(count_lines(json.load(open(\"../data/eurlex/raw.json\", \"r\")))) + \" entries -- \" + str(round(os.path.getsize(\"../data/eurlex/raw.json\")/1000/1000, 1)) + \"MB\")"
   ]
  },
  {
   "cell_type": "code",
   "execution_count": 12,
   "metadata": {},
   "outputs": [
    {
     "name": "stdout",
     "output_type": "stream",
     "text": [
      "138911 entries -- 60.7MB\n"
     ]
    }
   ],
   "source": [
    "print(str(count_lines(csv.reader(open(\"../data/eurlex/processed.csv\", \"r\")))-1) + \" entries -- \" + str(round(os.path.getsize(\"../data/eurlex/processed.csv\")/1000/1000, 1)) + \"MB\")"
   ]
  },
  {
   "cell_type": "code",
   "execution_count": 13,
   "metadata": {},
   "outputs": [
    {
     "name": "stdout",
     "output_type": "stream",
     "text": [
      "99896 entries -- 1.2MB\n"
     ]
    }
   ],
   "source": [
    "print(str(count_lines(csv.reader(open(\"../data/eurlex/texts.txt\", \"r\")))) + \" entries -- \" + str(round(os.path.getsize(\"../data/eurlex/texts.txt\")/1000/1000, 1)) + \"MB\")"
   ]
  },
  {
   "cell_type": "code",
   "execution_count": 18,
   "metadata": {},
   "outputs": [
    {
     "name": "stdout",
     "output_type": "stream",
     "text": [
      "99896 entries -- 3.43GB\n"
     ]
    }
   ],
   "source": [
    "print(str(count_lines(csv.reader(l.replace('\\0', '0') for l in open(\"../data/eurlex/combined.csv\", \"r\")))-1) + \" entries -- \" + str(round(os.path.getsize(\"../data/eurlex/combined.csv\")/1000/1000/1000, 2)) + \"GB\")"
   ]
  },
  {
   "cell_type": "markdown",
   "metadata": {},
   "source": [
    "Number of documents:"
   ]
  },
  {
   "cell_type": "code",
   "execution_count": 19,
   "metadata": {},
   "outputs": [
    {
     "data": {
      "text/plain": [
       "99896"
      ]
     },
     "execution_count": 19,
     "metadata": {},
     "output_type": "execute_result"
    }
   ],
   "source": [
    "len(data)"
   ]
  },
  {
   "cell_type": "markdown",
   "metadata": {},
   "source": [
    "Number of missing elements:"
   ]
  },
  {
   "cell_type": "code",
   "execution_count": 20,
   "metadata": {},
   "outputs": [
    {
     "data": {
      "text/html": [
       "<div>\n",
       "<style scoped>\n",
       "    .dataframe tbody tr th:only-of-type {\n",
       "        vertical-align: middle;\n",
       "    }\n",
       "\n",
       "    .dataframe tbody tr th {\n",
       "        vertical-align: top;\n",
       "    }\n",
       "\n",
       "    .dataframe thead th {\n",
       "        text-align: right;\n",
       "    }\n",
       "</style>\n",
       "<table border=\"1\" class=\"dataframe\">\n",
       "  <thead>\n",
       "    <tr style=\"text-align: right;\">\n",
       "      <th></th>\n",
       "      <th>Count</th>\n",
       "      <th>Percent</th>\n",
       "    </tr>\n",
       "  </thead>\n",
       "  <tbody>\n",
       "    <tr>\n",
       "      <th>celex</th>\n",
       "      <td>0</td>\n",
       "      <td>0.000000</td>\n",
       "    </tr>\n",
       "    <tr>\n",
       "      <th>form</th>\n",
       "      <td>0</td>\n",
       "      <td>0.000000</td>\n",
       "    </tr>\n",
       "    <tr>\n",
       "      <th>date</th>\n",
       "      <td>1615</td>\n",
       "      <td>1.616681</td>\n",
       "    </tr>\n",
       "    <tr>\n",
       "      <th>title</th>\n",
       "      <td>0</td>\n",
       "      <td>0.000000</td>\n",
       "    </tr>\n",
       "    <tr>\n",
       "      <th>oj_date</th>\n",
       "      <td>1971</td>\n",
       "      <td>1.973052</td>\n",
       "    </tr>\n",
       "    <tr>\n",
       "      <th>of_effect</th>\n",
       "      <td>14480</td>\n",
       "      <td>14.495075</td>\n",
       "    </tr>\n",
       "    <tr>\n",
       "      <th>end_validity</th>\n",
       "      <td>17396</td>\n",
       "      <td>17.414111</td>\n",
       "    </tr>\n",
       "    <tr>\n",
       "      <th>addressee</th>\n",
       "      <td>74947</td>\n",
       "      <td>75.025026</td>\n",
       "    </tr>\n",
       "    <tr>\n",
       "      <th>subject_matter</th>\n",
       "      <td>15399</td>\n",
       "      <td>15.415032</td>\n",
       "    </tr>\n",
       "    <tr>\n",
       "      <th>directory_codes</th>\n",
       "      <td>17309</td>\n",
       "      <td>17.327020</td>\n",
       "    </tr>\n",
       "    <tr>\n",
       "      <th>eurovoc_descriptors</th>\n",
       "      <td>20386</td>\n",
       "      <td>20.407224</td>\n",
       "    </tr>\n",
       "    <tr>\n",
       "      <th>legal_basis</th>\n",
       "      <td>28499</td>\n",
       "      <td>28.528670</td>\n",
       "    </tr>\n",
       "    <tr>\n",
       "      <th>relationships</th>\n",
       "      <td>3979</td>\n",
       "      <td>3.983142</td>\n",
       "    </tr>\n",
       "    <tr>\n",
       "      <th>text</th>\n",
       "      <td>0</td>\n",
       "      <td>0.000000</td>\n",
       "    </tr>\n",
       "  </tbody>\n",
       "</table>\n",
       "</div>"
      ],
      "text/plain": [
       "                     Count    Percent\n",
       "celex                    0   0.000000\n",
       "form                     0   0.000000\n",
       "date                  1615   1.616681\n",
       "title                    0   0.000000\n",
       "oj_date               1971   1.973052\n",
       "of_effect            14480  14.495075\n",
       "end_validity         17396  17.414111\n",
       "addressee            74947  75.025026\n",
       "subject_matter       15399  15.415032\n",
       "directory_codes      17309  17.327020\n",
       "eurovoc_descriptors  20386  20.407224\n",
       "legal_basis          28499  28.528670\n",
       "relationships         3979   3.983142\n",
       "text                     0   0.000000"
      ]
     },
     "execution_count": 20,
     "metadata": {},
     "output_type": "execute_result"
    }
   ],
   "source": [
    "total = data.isnull().sum()\n",
    "percent = data.isnull().sum()/data.isnull().count()*100.0\n",
    "missing_data = pd.concat([total, percent], axis=1, keys=['Count', 'Percent'])\n",
    "missing_data"
   ]
  },
  {
   "cell_type": "code",
   "execution_count": 21,
   "metadata": {},
   "outputs": [
    {
     "name": "stdout",
     "output_type": "stream",
     "text": [
      "\\begin{tabular}{lrr}\n",
      "\\toprule\n",
      "{} &  Count &    Percent \\\\\n",
      "\\midrule\n",
      "celex               &      0 &   0.000000 \\\\\n",
      "form                &      0 &   0.000000 \\\\\n",
      "date                &   1615 &   1.616681 \\\\\n",
      "title               &      0 &   0.000000 \\\\\n",
      "oj\\_date             &   1971 &   1.973052 \\\\\n",
      "of\\_effect           &  14480 &  14.495075 \\\\\n",
      "end\\_validity        &  17396 &  17.414111 \\\\\n",
      "addressee           &  74947 &  75.025026 \\\\\n",
      "subject\\_matter      &  15399 &  15.415032 \\\\\n",
      "directory\\_codes     &  17309 &  17.327020 \\\\\n",
      "eurovoc\\_descriptors &  20386 &  20.407224 \\\\\n",
      "legal\\_basis         &  28499 &  28.528670 \\\\\n",
      "relationships       &   3979 &   3.983142 \\\\\n",
      "text                &      0 &   0.000000 \\\\\n",
      "\\bottomrule\n",
      "\\end{tabular}\n",
      "\n"
     ]
    }
   ],
   "source": [
    "print(missing_data.to_latex())"
   ]
  },
  {
   "cell_type": "markdown",
   "metadata": {},
   "source": [
    "### form"
   ]
  },
  {
   "cell_type": "code",
   "execution_count": 22,
   "metadata": {},
   "outputs": [
    {
     "data": {
      "text/plain": [
       "count          99896\n",
       "unique            65\n",
       "top       Regulation\n",
       "freq           50076\n",
       "Name: form, dtype: object"
      ]
     },
     "execution_count": 22,
     "metadata": {},
     "output_type": "execute_result"
    }
   ],
   "source": [
    "data['form'].describe()"
   ]
  },
  {
   "cell_type": "code",
   "execution_count": 23,
   "metadata": {},
   "outputs": [
    {
     "name": "stdout",
     "output_type": "stream",
     "text": [
      "form\n",
      "Regulation                                   50076\n",
      "Decision                                     15840\n",
      "decision without addressee                   12980\n",
      "decision with addressee                       4508\n",
      "Directive                                     4157\n",
      "Implementing regulation                       2337\n",
      "Agreement                                     2091\n",
      "Recommendation                                 764\n",
      "Budget                                         762\n",
      "Resolution                                     754\n",
      "Implementing decision                          624\n",
      "Opinion                                        615\n",
      "Protocol                                       603\n",
      "Communication                                  456\n",
      "Decision - ECSC                                410\n",
      "Joint Action                                   341\n",
      "Notice                                         338\n",
      "Common position                                283\n",
      "Report                                         264\n",
      "Rules of procedure                             181\n",
      "Convention                                     134\n",
      "Declaration                                    127\n",
      "Guideline                                      125\n",
      "conclusions                                    124\n",
      "Exchange of letters                            114\n",
      "Info                                           107\n",
      "Recommendation-ECSC                             99\n",
      "Memorandum of understanding                     69\n",
      "RESOLUTION                                      67\n",
      "Delegated regulation                            54\n",
      "Balance                                         46\n",
      "Minutes                                         43\n",
      "framework decision                              36\n",
      "initiative                                      33\n",
      "Programme                                       32\n",
      "Internal agreement                              31\n",
      "Implementing directive                          29\n",
      "List                                            28\n",
      "Information                                     28\n",
      "Arrangement                                     24\n",
      "Conclusions                                     23\n",
      "Consolidated version                            22\n",
      "Statute                                         14\n",
      "Announcements                                   14\n",
      "OTHL                                            12\n",
      "Protocol to the Agreement                       12\n",
      "Amendment to an agreement                       10\n",
      "Financial Regulation                            10\n",
      "JOINT.ACT                                        8\n",
      "Treaty                                           7\n",
      "common strategy                                  5\n",
      "judicial information                             3\n",
      "Various acts                                     3\n",
      "Delegated decision                               3\n",
      "Preparatory act                                  3\n",
      "Delegated directive                              2\n",
      "COM.POS                                          2\n",
      "proposal for a decision without addressee        2\n",
      "Decision sui generis                             1\n",
      "PROP. DEC                                        1\n",
      "Rejection of common position                     1\n",
      "Draft directive                                  1\n",
      "Proposal for a regulation                        1\n",
      "OP.COM.COM                                       1\n",
      "proposal for an implementing regulation          1\n",
      "dtype: int64\n"
     ]
    }
   ],
   "source": [
    "form_counting = data.groupby('form').size().sort_values(ascending=False)\n",
    "with pd.option_context('display.max_rows', None, 'display.max_columns', None):\n",
    "    print(form_counting)"
   ]
  },
  {
   "cell_type": "code",
   "execution_count": 24,
   "metadata": {},
   "outputs": [
    {
     "data": {
      "image/png": "[encoded data removed]",
      "text/plain": [
       "<Figure size 432x288 with 1 Axes>"
      ]
     },
     "metadata": {
      "needs_background": "light"
     },
     "output_type": "display_data"
    }
   ],
   "source": [
    "ax = form_counting[:][0:25].plot(kind='bar', edgecolor='grey', rot=90);\n",
    "ax.yaxis.grid()"
   ]
  },
  {
   "cell_type": "markdown",
   "metadata": {},
   "source": [
    "### date"
   ]
  },
  {
   "cell_type": "code",
   "execution_count": 25,
   "metadata": {},
   "outputs": [
    {
     "data": {
      "text/plain": [
       "count                            98281\n",
       "mean     1997-03-11 09:41:31.073554176\n",
       "min                1949-09-24 00:00:00\n",
       "25%                1988-12-21 00:00:00\n",
       "50%                1999-01-05 00:00:00\n",
       "75%                2005-11-11 00:00:00\n",
       "max                2013-10-04 00:00:00\n",
       "Name: date, dtype: object"
      ]
     },
     "execution_count": 25,
     "metadata": {},
     "output_type": "execute_result"
    }
   ],
   "source": [
    "data['date'].describe(datetime_is_numeric=True)"
   ]
  },
  {
   "cell_type": "code",
   "execution_count": 26,
   "metadata": {},
   "outputs": [
    {
     "data": {
      "image/png": "[encoded data removed]",
      "text/plain": [
       "<Figure size 576x360 with 1 Axes>"
      ]
     },
     "metadata": {
      "needs_background": "light"
     },
     "output_type": "display_data"
    }
   ],
   "source": [
    "ax = data['date'].hist(bins=65, edgecolor='grey', range=(datetime.date(1949, 1, 1), datetime.date(2014, 1, 1)), figsize=(8,5))\n",
    "ax.xaxis.set_major_locator(mdates.YearLocator(5))\n",
    "ax.xaxis.set_major_formatter(mdates.DateFormatter('%Y'))\n",
    "ax.set_xlim([datetime.date(1949, 1, 1), datetime.date(2014, 1, 1)])\n",
    "ax.set_ylim([0, 4500])\n",
    "plt.title('date')\n",
    "plt.xlabel('Date')\n",
    "plt.ylabel('# of documents')\n",
    "plt.xticks(rotation=90)\n",
    "plt.yticks(range(0, 4501, 500))\n",
    "plt.savefig('date-histogram.svg')"
   ]
  },
  {
   "cell_type": "markdown",
   "metadata": {},
   "source": [
    "### title"
   ]
  },
  {
   "cell_type": "code",
   "execution_count": 27,
   "metadata": {},
   "outputs": [
    {
     "data": {
      "text/plain": [
       "count    99896.000000\n",
       "mean       216.306779\n",
       "std         80.332225\n",
       "min          6.000000\n",
       "25%        161.000000\n",
       "50%        206.000000\n",
       "75%        255.000000\n",
       "max       1531.000000\n",
       "Name: title, dtype: float64"
      ]
     },
     "execution_count": 27,
     "metadata": {},
     "output_type": "execute_result"
    }
   ],
   "source": [
    "data['title'].str.len().describe()"
   ]
  },
  {
   "cell_type": "code",
   "execution_count": 28,
   "metadata": {},
   "outputs": [
    {
     "data": {
      "image/png": "[encoded data removed]",
      "text/plain": [
       "<Figure size 288x360 with 1 Axes>"
      ]
     },
     "metadata": {
      "needs_background": "light"
     },
     "output_type": "display_data"
    }
   ],
   "source": [
    "ax = data['title'].str.len().hist(bins=24, edgecolor='grey', range=(0, 800), figsize=(4,5))\n",
    "ax.set_xlim([0, 800])\n",
    "ax.set_ylim([0, 20000])\n",
    "plt.title('title length')\n",
    "plt.xlabel('Length (chars)')\n",
    "plt.ylabel('# of documents')\n",
    "plt.xticks(range(0, 801, 200))\n",
    "plt.savefig('title-length-histogram.svg')"
   ]
  },
  {
   "cell_type": "markdown",
   "metadata": {},
   "source": [
    "### oj_date"
   ]
  },
  {
   "cell_type": "code",
   "execution_count": 29,
   "metadata": {},
   "outputs": [
    {
     "data": {
      "text/plain": [
       "count                            97925\n",
       "mean     1997-02-23 20:43:02.368138880\n",
       "min                1952-12-30 00:00:00\n",
       "25%                1988-12-30 00:00:00\n",
       "50%                1998-12-09 00:00:00\n",
       "75%                2005-10-13 00:00:00\n",
       "max                2013-10-22 00:00:00\n",
       "Name: oj_date, dtype: object"
      ]
     },
     "execution_count": 29,
     "metadata": {},
     "output_type": "execute_result"
    }
   ],
   "source": [
    "data['oj_date'].describe(datetime_is_numeric=True)"
   ]
  },
  {
   "cell_type": "code",
   "execution_count": 30,
   "metadata": {},
   "outputs": [
    {
     "data": {
      "image/png": "[encoded data removed]",
      "text/plain": [
       "<Figure size 576x360 with 1 Axes>"
      ]
     },
     "metadata": {
      "needs_background": "light"
     },
     "output_type": "display_data"
    }
   ],
   "source": [
    "ax = data['oj_date'].hist(bins=62, edgecolor='grey', range=(datetime.date(1952, 1, 1), datetime.date(2014, 1, 1)), figsize=(8,5))\n",
    "ax.xaxis.set_major_locator(mdates.YearLocator(5))\n",
    "ax.xaxis.set_major_formatter(mdates.DateFormatter('%Y'))\n",
    "ax.set_xlim([datetime.date(1952, 1, 1), datetime.date(2014, 1, 1)])\n",
    "ax.set_ylim([0, 4500])\n",
    "plt.title('oj_date')\n",
    "plt.xlabel('Date')\n",
    "plt.ylabel('# of documents')\n",
    "plt.xticks(rotation=90)\n",
    "plt.yticks(range(0, 4501, 500))\n",
    "plt.savefig('oj_date-histogram.svg')"
   ]
  },
  {
   "cell_type": "markdown",
   "metadata": {},
   "source": [
    "### of_effect"
   ]
  },
  {
   "cell_type": "code",
   "execution_count": 31,
   "metadata": {},
   "outputs": [
    {
     "data": {
      "text/plain": [
       "count                            85416\n",
       "mean     1997-04-29 21:12:35.605507072\n",
       "min                1953-01-01 00:00:00\n",
       "25%                1989-04-14 00:00:00\n",
       "50%                1998-11-24 00:00:00\n",
       "75%                2005-11-14 00:00:00\n",
       "max                2017-01-01 00:00:00\n",
       "Name: of_effect, dtype: object"
      ]
     },
     "execution_count": 31,
     "metadata": {},
     "output_type": "execute_result"
    }
   ],
   "source": [
    "data['of_effect'].describe(datetime_is_numeric=True)"
   ]
  },
  {
   "cell_type": "code",
   "execution_count": 32,
   "metadata": {},
   "outputs": [
    {
     "data": {
      "image/png": "[encoded data removed]",
      "text/plain": [
       "<Figure size 576x360 with 1 Axes>"
      ]
     },
     "metadata": {
      "needs_background": "light"
     },
     "output_type": "display_data"
    }
   ],
   "source": [
    "ax = data['of_effect'].hist(bins=65, edgecolor='grey', range=(datetime.date(1953, 1, 1), datetime.date(2018, 1, 1)), figsize=(8,5))\n",
    "ax.xaxis.set_major_locator(mdates.YearLocator(5))\n",
    "ax.xaxis.set_major_formatter(mdates.DateFormatter('%Y'))\n",
    "ax.set_xlim([datetime.date(1953, 1, 1), datetime.date(2018, 1, 1)])\n",
    "ax.set_ylim([0, 4000])\n",
    "plt.title('of_effect')\n",
    "plt.xlabel('Date')\n",
    "plt.ylabel('# of documents')\n",
    "plt.xticks(rotation=90)\n",
    "plt.yticks(range(0, 4001, 500))\n",
    "plt.savefig('of_effect-histogram.svg')"
   ]
  },
  {
   "cell_type": "markdown",
   "metadata": {},
   "source": [
    "### end_validity"
   ]
  },
  {
   "cell_type": "code",
   "execution_count": 33,
   "metadata": {},
   "outputs": [
    {
     "data": {
      "text/plain": [
       "count                            47670\n",
       "mean     1995-04-09 18:06:07.023284992\n",
       "min                1954-01-07 00:00:00\n",
       "25%                1987-05-01 00:00:00\n",
       "50%                1994-08-01 00:00:00\n",
       "75%                2002-03-30 18:00:00\n",
       "max                2058-12-31 00:00:00\n",
       "Name: end_validity, dtype: object"
      ]
     },
     "execution_count": 33,
     "metadata": {},
     "output_type": "execute_result"
    }
   ],
   "source": [
    "valid_end_validity = data[data['end_validity'] != pd.to_datetime(\"2100-01-01\")]['end_validity']\n",
    "valid_end_validity.describe(datetime_is_numeric=True)"
   ]
  },
  {
   "cell_type": "code",
   "execution_count": 34,
   "metadata": {},
   "outputs": [
    {
     "data": {
      "text/plain": [
       "34830"
      ]
     },
     "execution_count": 34,
     "metadata": {},
     "output_type": "execute_result"
    }
   ],
   "source": [
    "invalid_end_validity = data[data['end_validity'] == pd.to_datetime(\"2100-01-01\")]['end_validity']\n",
    "invalid_end_validity.count()"
   ]
  },
  {
   "cell_type": "code",
   "execution_count": 35,
   "metadata": {},
   "outputs": [
    {
     "data": {
      "image/png": "[encoded data removed]",
      "text/plain": [
       "<Figure size 576x360 with 1 Axes>"
      ]
     },
     "metadata": {
      "needs_background": "light"
     },
     "output_type": "display_data"
    }
   ],
   "source": [
    "ax = valid_end_validity.hist(bins=104, edgecolor='grey', range=(datetime.date(1954, 1, 1), datetime.date(2058, 1, 1)), figsize=(8,5))\n",
    "ax.xaxis.set_major_locator(mdates.YearLocator(5))\n",
    "ax.xaxis.set_major_formatter(mdates.DateFormatter('%Y'))\n",
    "ax.set_xlim([datetime.date(1954, 1, 1), datetime.date(2025, 1, 1)])\n",
    "ax.set_ylim([0, 2500])\n",
    "plt.title('end_validity')\n",
    "plt.xlabel('Date')\n",
    "plt.ylabel('# of documents')\n",
    "plt.xticks(rotation=90)\n",
    "plt.yticks(range(0, 2501, 500))\n",
    "plt.savefig('env_validity-histogram.svg')"
   ]
  },
  {
   "cell_type": "markdown",
   "metadata": {},
   "source": [
    "### addressee"
   ]
  },
  {
   "cell_type": "code",
   "execution_count": 36,
   "metadata": {},
   "outputs": [
    {
     "data": {
      "text/plain": [
       "count    24949.000000\n",
       "mean        25.547998\n",
       "std         25.878225\n",
       "min          5.000000\n",
       "25%         17.000000\n",
       "50%         17.000000\n",
       "75%         27.000000\n",
       "max        244.000000\n",
       "Name: addressee, dtype: float64"
      ]
     },
     "execution_count": 36,
     "metadata": {},
     "output_type": "execute_result"
    }
   ],
   "source": [
    "data['addressee'].describe()"
   ]
  },
  {
   "cell_type": "code",
   "execution_count": 59,
   "metadata": {},
   "outputs": [
    {
     "name": "stdout",
     "output_type": "stream",
     "text": [
      "Total addressees: 117688\n",
      "Total NaN values: 74947\n"
     ]
    }
   ],
   "source": [
    "# Group in a single list all keywords\n",
    "addressees = []\n",
    "NaN_counter = 0\n",
    "for element in data['addressee']:\n",
    "    if (type(element) == float):\n",
    "        NaN_counter += 1\n",
    "        addressees.append('NaN')\n",
    "    else:\n",
    "        for sub_element in element.split(\";\"): # keywords related to a single entry are separated by \";\"\n",
    "            addressees.append(sub_element)\n",
    "        \n",
    "print(\"Total addressees: {}\".format(len(addressees)))\n",
    "print(\"Total NaN values: {}\".format(NaN_counter))"
   ]
  },
  {
   "cell_type": "code",
   "execution_count": 60,
   "metadata": {},
   "outputs": [
    {
     "name": "stdout",
     "output_type": "stream",
     "text": [
      "Unique addressees: 327\n",
      "(Excluding NaN) Most frequently used addressee: The Member States | 11231 times\n"
     ]
    }
   ],
   "source": [
    "# Get unique keywords and respective frequency\n",
    "unique_addressees, addressees_count = np.unique(addressees,return_counts=True)\n",
    "addressees_count_sort_ind = np.argsort(-addressees_count)\n",
    "\n",
    "print(\"Unique addressees: {}\".format(len(unique_addressees)))\n",
    "print(\"(Excluding NaN) Most frequently used addressee: {} | {} times\".format(unique_addressees[addressees_count_sort_ind][1], addressees_count[addressees_count_sort_ind][1]))"
   ]
  },
  {
   "cell_type": "code",
   "execution_count": 61,
   "metadata": {},
   "outputs": [],
   "source": [
    "lower_bound_ = 1\n",
    "upper_bound_ = 26\n",
    "sub_unique_addressees = unique_addressees[addressees_count_sort_ind][lower_bound_:upper_bound_]\n",
    "sub_addressees_count = addressees_count[addressees_count_sort_ind][lower_bound_:upper_bound_]"
   ]
  },
  {
   "cell_type": "code",
   "execution_count": 62,
   "metadata": {},
   "outputs": [
    {
     "name": "stdout",
     "output_type": "stream",
     "text": [
      "            Eurovoc Descriptors  Frequency\n",
      "0             The Member States      11231\n",
      "1                       Private       4579\n",
      "2            German nationality       2190\n",
      "3           British nationality       1753\n",
      "4     United States nationality       1710\n",
      "5                        France       1515\n",
      "6            French nationality       1476\n",
      "7                         Italy       1321\n",
      "8   Federal Republic of Germany       1309\n",
      "9             Dutch nationality       1036\n",
      "10               United Kingdom        985\n",
      "11                      Belgium        797\n",
      "12                  Netherlands        778\n",
      "13          Italian nationality        748\n",
      "14                        Spain        729\n",
      "15                      Ireland        627\n",
      "16                       Greece        613\n",
      "17                     Portugal        593\n",
      "18                            #        584\n",
      "19          Spanish nationality        503\n",
      "20                      Denmark        457\n",
      "21          Swedish nationality        451\n",
      "22          Belgian nationality        430\n",
      "23                   Luxembourg        420\n",
      "24                   Individual        322\n"
     ]
    }
   ],
   "source": [
    "addressees_df = pd.DataFrame({'Eurovoc Descriptors' : sub_unique_addressees, 'Frequency' : sub_addressees_count})\n",
    "print(addressees_df)"
   ]
  },
  {
   "cell_type": "code",
   "execution_count": 64,
   "metadata": {},
   "outputs": [
    {
     "data": {
      "image/png": "[encoded data removed]",
      "text/plain": [
       "<Figure size 720x360 with 1 Axes>"
      ]
     },
     "metadata": {
      "needs_background": "light"
     },
     "output_type": "display_data"
    },
    {
     "data": {
      "text/plain": [
       "<Figure size 432x288 with 0 Axes>"
      ]
     },
     "metadata": {},
     "output_type": "display_data"
    }
   ],
   "source": [
    "ticks_ = range(len(sub_addressees_count))\n",
    "f, ax = plt.subplots(figsize=(10,5))\n",
    "plt.bar(ticks_, sub_addressees_count, align='center')\n",
    "plt.xticks(ticks_, sub_unique_addressees, rotation='vertical')\n",
    "plt.grid(axis='y')\n",
    "plt.show()\n",
    "plt.savefig('top25-addressees.svg')"
   ]
  },
  {
   "cell_type": "markdown",
   "metadata": {},
   "source": [
    "## subject_matter"
   ]
  },
  {
   "cell_type": "code",
   "execution_count": 65,
   "metadata": {},
   "outputs": [
    {
     "data": {
      "text/plain": [
       "count                                                 84497\n",
       "unique                                                 5601\n",
       "top       Competition;Rules applying to undertakings - c...\n",
       "freq                                                   4766\n",
       "Name: subject_matter, dtype: object"
      ]
     },
     "execution_count": 65,
     "metadata": {},
     "output_type": "execute_result"
    }
   ],
   "source": [
    "data['subject_matter'].describe()"
   ]
  },
  {
   "cell_type": "code",
   "execution_count": 66,
   "metadata": {},
   "outputs": [
    {
     "name": "stdout",
     "output_type": "stream",
     "text": [
      "Total Keywords: 187886\n"
     ]
    }
   ],
   "source": [
    "# Group in a single list all keywords\n",
    "keywords = []\n",
    "for element in data['subject_matter']:\n",
    "    if (type(element) == float):\n",
    "        keywords.append('NaN')\n",
    "    else:\n",
    "        for sub_element in element.split(\";\"): # keywords related to a single entry are separated by \";\"\n",
    "            keywords.append(sub_element)\n",
    "        \n",
    "print(\"Total Keywords: {}\".format(len(keywords)))"
   ]
  },
  {
   "cell_type": "code",
   "execution_count": 67,
   "metadata": {},
   "outputs": [
    {
     "name": "stdout",
     "output_type": "stream",
     "text": [
      "Unique Keywords: 249\n",
      "(Excluding NaN) Most frequently used keyword: common commercial policy | 11961 times\n"
     ]
    }
   ],
   "source": [
    "# Get unique keywords and respective frequency\n",
    "unique_keywords, count = np.unique(keywords,return_counts=True)\n",
    "count_sort_ind = np.argsort(-count)\n",
    "\n",
    "print(\"Unique Keywords: {}\".format(len(unique_keywords)))\n",
    "print(\"(Excluding NaN) Most frequently used keyword: {} | {} times\".format(unique_keywords[count_sort_ind][1], count[count_sort_ind][1]))"
   ]
  },
  {
   "cell_type": "code",
   "execution_count": 68,
   "metadata": {},
   "outputs": [],
   "source": [
    "lower_bound = 1 # starting at 1 to skip NaN (because NaN is the most common)\n",
    "upper_bound = 26"
   ]
  },
  {
   "cell_type": "code",
   "execution_count": 69,
   "metadata": {},
   "outputs": [],
   "source": [
    "sub_unique_keywords = unique_keywords[count_sort_ind][lower_bound:upper_bound]"
   ]
  },
  {
   "cell_type": "code",
   "execution_count": 70,
   "metadata": {},
   "outputs": [],
   "source": [
    "sub_count = count[count_sort_ind][lower_bound:upper_bound]"
   ]
  },
  {
   "cell_type": "code",
   "execution_count": 71,
   "metadata": {},
   "outputs": [
    {
     "name": "stdout",
     "output_type": "stream",
     "text": [
      "                                             Keywords  Frequency\n",
      "0                            common commercial policy      11961\n",
      "1                                  External relations      10477\n",
      "2                                         Agriculture       8943\n",
      "3                                         Competition       6749\n",
      "4                              Veterinary legislation       5653\n",
      "5                                    Fisheries policy       5395\n",
      "6     Rules applying to undertakings - concentrations       4786\n",
      "7                               Approximation of laws       4727\n",
      "8                                     Internal market       3829\n",
      "9                                    CCT: derogations       3526\n",
      "10                                        Association       3370\n",
      "11              Provisions governing the Institutions       3112\n",
      "12                                      Milk products       2960\n",
      "13  European Agricultural Guidance and Guarantee F...       2951\n",
      "14                                          Accession       2940\n",
      "15                               Fruit and vegetables       2883\n",
      "16                                        Environment       2470\n",
      "17                                      Beef and veal       2433\n",
      "18                                            Cereals       2274\n",
      "19                 Common foreign and security policy       2271\n",
      "20                                          Transport       2257\n",
      "21                            Agricultural structures       2257\n",
      "22                                Consumer protection       2189\n",
      "23                                 Technical barriers       2184\n",
      "24                                            Dumping       2043\n"
     ]
    }
   ],
   "source": [
    "subject_matter_df = pd.DataFrame({'Keywords' : sub_unique_keywords, 'Frequency' : sub_count})\n",
    "print(subject_matter_df)"
   ]
  },
  {
   "cell_type": "code",
   "execution_count": 72,
   "metadata": {},
   "outputs": [
    {
     "data": {
      "image/png": "[encoded data removed]",
      "text/plain": [
       "<Figure size 432x288 with 1 Axes>"
      ]
     },
     "metadata": {
      "needs_background": "light"
     },
     "output_type": "display_data"
    }
   ],
   "source": [
    "ticks = range(len(sub_count))\n",
    "plt.bar(ticks, sub_count, align='center')\n",
    "plt.xticks(ticks, sub_unique_keywords, rotation='vertical')\n",
    "plt.grid(axis='y')\n",
    "plt.show()"
   ]
  },
  {
   "cell_type": "markdown",
   "metadata": {},
   "source": [
    "### eurovoc_descriptors"
   ]
  },
  {
   "cell_type": "code",
   "execution_count": 73,
   "metadata": {},
   "outputs": [
    {
     "data": {
      "text/plain": [
       "count                                                 79510\n",
       "unique                                                52291\n",
       "top       agri-monetary policy;citrus fruit;fruit vegeta...\n",
       "freq                                                    460\n",
       "Name: eurovoc_descriptors, dtype: object"
      ]
     },
     "execution_count": 73,
     "metadata": {},
     "output_type": "execute_result"
    }
   ],
   "source": [
    "data['eurovoc_descriptors'].describe()"
   ]
  },
  {
   "cell_type": "code",
   "execution_count": 74,
   "metadata": {},
   "outputs": [
    {
     "name": "stdout",
     "output_type": "stream",
     "text": [
      "Total eurovoc descriptors: 445397\n",
      "Total NaN values: 20386\n"
     ]
    }
   ],
   "source": [
    "# Group in a single list all keywords\n",
    "eurovoc_descriptors = []\n",
    "NaN_counter = 0\n",
    "for element in data['eurovoc_descriptors']:\n",
    "    if (type(element) == float):\n",
    "        NaN_counter += 1\n",
    "        eurovoc_descriptors.append('NaN')\n",
    "    else:\n",
    "        for sub_element in element.split(\";\"): # keywords related to a single entry are separated by \";\"\n",
    "            eurovoc_descriptors.append(sub_element)\n",
    "        \n",
    "print(\"Total eurovoc descriptors: {}\".format(len(eurovoc_descriptors)))\n",
    "print(\"Total NaN values: {}\".format(NaN_counter))"
   ]
  },
  {
   "cell_type": "code",
   "execution_count": 75,
   "metadata": {},
   "outputs": [
    {
     "name": "stdout",
     "output_type": "stream",
     "text": [
      "Unique eurovoc descriptors: 5204\n",
      "(Excluding NaN) Most frequently used eurovoc descriptor: import | 5871 times\n"
     ]
    }
   ],
   "source": [
    "# Get unique keywords and respective frequency\n",
    "unique_eurovoc_descriptors, eurovoc_descriptors_count = np.unique(eurovoc_descriptors,return_counts=True)\n",
    "eurovoc_descriptors_count_sort_ind = np.argsort(-eurovoc_descriptors_count)\n",
    "\n",
    "print(\"Unique eurovoc descriptors: {}\".format(len(unique_eurovoc_descriptors)))\n",
    "print(\"(Excluding NaN) Most frequently used eurovoc descriptor: {} | {} times\".format(unique_eurovoc_descriptors[eurovoc_descriptors_count_sort_ind][1], eurovoc_descriptors_count[eurovoc_descriptors_count_sort_ind][1]))"
   ]
  },
  {
   "cell_type": "code",
   "execution_count": 76,
   "metadata": {},
   "outputs": [],
   "source": [
    "lower_bound_ = 1\n",
    "upper_bound_ = 26\n",
    "sub_unique_eurovoc_descriptors = unique_eurovoc_descriptors[eurovoc_descriptors_count_sort_ind][lower_bound_:upper_bound_]\n",
    "sub_eurovoc_descriptors_count = eurovoc_descriptors_count[eurovoc_descriptors_count_sort_ind][lower_bound_:upper_bound_]"
   ]
  },
  {
   "cell_type": "code",
   "execution_count": 77,
   "metadata": {},
   "outputs": [
    {
     "name": "stdout",
     "output_type": "stream",
     "text": [
      "               Eurovoc Descriptors  Frequency\n",
      "0                           import       5871\n",
      "1                    export refund       4785\n",
      "2              originating product       3837\n",
      "3                award of contract       3794\n",
      "4                     citrus fruit       3401\n",
      "5                        pip fruit       3388\n",
      "6                  fruit vegetable       3386\n",
      "7                     tariff quota       3360\n",
      "8                     import price       3352\n",
      "9                    third country       3319\n",
      "10                  import licence       3006\n",
      "11                    EC agreement       2914\n",
      "12                  health control       2576\n",
      "13                      CCT duties       2259\n",
      "14                           Spain       2022\n",
      "15                       State aid       1917\n",
      "16           veterinary inspection       1870\n",
      "17                 EU Member State       1847\n",
      "18                       marketing       1837\n",
      "19  common organisation of markets       1814\n",
      "20            agri-monetary policy       1804\n",
      "21                            beef       1770\n",
      "22                            rice       1769\n",
      "23            information transfer       1726\n",
      "24           approximation of laws       1669\n"
     ]
    }
   ],
   "source": [
    "eurovoc_descriptors_df = pd.DataFrame({'Eurovoc Descriptors' : sub_unique_eurovoc_descriptors, 'Frequency' : sub_eurovoc_descriptors_count})\n",
    "print(eurovoc_descriptors_df)"
   ]
  },
  {
   "cell_type": "code",
   "execution_count": 78,
   "metadata": {},
   "outputs": [
    {
     "data": {
      "image/png": "[encoded data removed]",
      "text/plain": [
       "<Figure size 720x360 with 1 Axes>"
      ]
     },
     "metadata": {
      "needs_background": "light"
     },
     "output_type": "display_data"
    },
    {
     "data": {
      "text/plain": [
       "<Figure size 432x288 with 0 Axes>"
      ]
     },
     "metadata": {},
     "output_type": "display_data"
    }
   ],
   "source": [
    "ticks_ = range(len(sub_eurovoc_descriptors_count))\n",
    "f, ax = plt.subplots(figsize=(10,5))\n",
    "plt.bar(ticks_, sub_eurovoc_descriptors_count, align='center')\n",
    "plt.xticks(ticks, sub_unique_eurovoc_descriptors, rotation='vertical')\n",
    "plt.grid(axis='y')\n",
    "plt.show()\n",
    "plt.savefig('top25-eurovoc-descriptors.svg')"
   ]
  },
  {
   "cell_type": "markdown",
   "metadata": {},
   "source": [
    "## relationships"
   ]
  },
  {
   "cell_type": "code",
   "execution_count": 79,
   "metadata": {},
   "outputs": [
    {
     "name": "stdout",
     "output_type": "stream",
     "text": [
      "Total relationships: 320867\n",
      "Relationships per document: 3.212010490910547\n"
     ]
    }
   ],
   "source": [
    "# Group in a single list all relationships\n",
    "relationships = []\n",
    "\n",
    "for element in data['relationships']:\n",
    "    if (type(element) == float):\n",
    "        continue\n",
    "    else:\n",
    "        for sub_element in element.split(\";\"): # relationships are separated by \";\"\n",
    "            relationships.append(sub_element)\n",
    "        \n",
    "print(\"Total relationships: {}\".format(len(relationships)))\n",
    "print(\"Relationships per document: {}\".format(len(relationships)/len(data)))"
   ]
  },
  {
   "cell_type": "code",
   "execution_count": 80,
   "metadata": {},
   "outputs": [
    {
     "name": "stdout",
     "output_type": "stream",
     "text": [
      "Unique relationships: 63473\n",
      "Most frequently used relationships: 21994A0103(01) | 3937 times\n"
     ]
    }
   ],
   "source": [
    "# Get unique keywords and respective frequency\n",
    "unique_relationships, relationships_count = np.unique(relationships,return_counts=True)\n",
    "relationships_count_sort_ind = np.argsort(-relationships_count)\n",
    "\n",
    "print(\"Unique relationships: {}\".format(len(unique_relationships)))\n",
    "print(\"Most frequently used relationships: {} | {} times\".format(unique_relationships[relationships_count_sort_ind][0], relationships_count[relationships_count_sort_ind][0]))"
   ]
  },
  {
   "cell_type": "code",
   "execution_count": 81,
   "metadata": {},
   "outputs": [],
   "source": [
    "sub_unique_relationships = unique_relationships[relationships_count_sort_ind][0:25]\n",
    "sub_relationships_count = relationships_count[relationships_count_sort_ind][0:25]"
   ]
  },
  {
   "cell_type": "code",
   "execution_count": 82,
   "metadata": {},
   "outputs": [
    {
     "name": "stdout",
     "output_type": "stream",
     "text": [
      "     Relationships  Frequency\n",
      "0   21994A0103(01)       3937\n",
      "1       32007R1234       3089\n",
      "2       31989R4064       2484\n",
      "3       32004R0139       2392\n",
      "4       31968R0804       1870\n",
      "5       31992R1766       1764\n",
      "6       31994R3223       1662\n",
      "7       31999R1255       1426\n",
      "8       31968R0805       1401\n",
      "9       32001R1260       1249\n",
      "10      31992R2913       1233\n",
      "11      32003R1784       1187\n",
      "12  21994A0103(52)       1153\n",
      "13      31972R1035       1144\n",
      "14      31993R2454       1133\n",
      "15      31966R0136       1127\n",
      "16      31993R2847       1097\n",
      "17      31975R2727       1086\n",
      "18      31987R2658       1068\n",
      "19      31995R3072        950\n",
      "20  21994A0103(51)        932\n",
      "21      32002R1605        930\n",
      "22      31995R1501        917\n",
      "23      32007R1580        898\n",
      "24      31999D0468        854\n"
     ]
    }
   ],
   "source": [
    "relationships_df = pd.DataFrame({'Relationships' : sub_unique_relationships, 'Frequency' : sub_relationships_count})\n",
    "print(relationships_df)"
   ]
  },
  {
   "cell_type": "code",
   "execution_count": 83,
   "metadata": {},
   "outputs": [
    {
     "data": {
      "image/png": "[encoded data removed]",
      "text/plain": [
       "<Figure size 432x288 with 1 Axes>"
      ]
     },
     "metadata": {
      "needs_background": "light"
     },
     "output_type": "display_data"
    }
   ],
   "source": [
    "ticks_ = range(len(sub_relationships_count))\n",
    "plt.bar(ticks_, sub_relationships_count, align='center')\n",
    "plt.xticks(ticks, sub_unique_relationships, rotation='vertical')\n",
    "plt.grid(axis='y')\n",
    "plt.show()"
   ]
  },
  {
   "cell_type": "markdown",
   "metadata": {},
   "source": [
    "## text"
   ]
  },
  {
   "cell_type": "code",
   "execution_count": 84,
   "metadata": {},
   "outputs": [
    {
     "data": {
      "text/plain": [
       "count       99896.000000\n",
       "mean        32916.556188\n",
       "std        268825.809884\n",
       "min          1604.000000\n",
       "25%          4819.000000\n",
       "50%          7489.000000\n",
       "75%         16978.000000\n",
       "max      18605992.000000\n",
       "Name: text, dtype: object"
      ]
     },
     "execution_count": 84,
     "metadata": {},
     "output_type": "execute_result"
    }
   ],
   "source": [
    "data['text'].str.len().describe().apply(lambda x: format(x, 'f'))"
   ]
  },
  {
   "cell_type": "code",
   "execution_count": 85,
   "metadata": {},
   "outputs": [
    {
     "data": {
      "image/png": "[encoded data removed]",
      "text/plain": [
       "<Figure size 288x360 with 1 Axes>"
      ]
     },
     "metadata": {
      "needs_background": "light"
     },
     "output_type": "display_data"
    }
   ],
   "source": [
    "ax = data['text'].str.len().hist(bins=20, edgecolor='grey', range=(0, 20000), figsize=(4,5))\n",
    "ax.set_xlim([0, 20000])\n",
    "ax.set_ylim([0, 25000])\n",
    "plt.title('text length')\n",
    "plt.xlabel('Length (chars)')\n",
    "plt.ylabel('# of documents')\n",
    "plt.xticks(range(0, 20001, 5000))\n",
    "plt.savefig('text-length-histogram.svg')"
   ]
  }
 ],
 "metadata": {
  "interpreter": {
   "hash": "916dbcbb3f70747c44a77c7bcd40155683ae19c65e1c03b4aa3499c5328201f1"
  },
  "kernelspec": {
   "display_name": "Python 3",
   "language": "python",
   "name": "python3"
  },
  "language_info": {
   "codemirror_mode": {
    "name": "ipython",
    "version": 3
   },
   "file_extension": ".py",
   "mimetype": "text/x-python",
   "name": "python",
   "nbconvert_exporter": "python",
   "pygments_lexer": "ipython3",
   "version": "3.8.10"
  }
 },
 "nbformat": 4,
 "nbformat_minor": 4
}
