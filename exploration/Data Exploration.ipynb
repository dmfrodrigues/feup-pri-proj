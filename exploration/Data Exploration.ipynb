{
 "cells": [
  {
   "cell_type": "code",
   "execution_count": 55,
   "metadata": {},
   "outputs": [],
   "source": [
    "import pandas as pd\n",
    "import matplotlib.pyplot as plt\n",
    "import matplotlib.dates as mdates\n",
    "import seaborn as sns\n",
    "import numpy as np\n",
    "import datetime"
   ]
  },
  {
   "cell_type": "markdown",
   "metadata": {},
   "source": [
    "# Data Exploration\n",
    "\n",
    "Let's start by importing the data:"
   ]
  },
  {
   "cell_type": "code",
   "execution_count": 56,
   "metadata": {},
   "outputs": [],
   "source": [
    "data = pd.read_csv(\"../data/eurlex/combined.csv\", sep=\",\", quotechar=\"'\")\n",
    "data = data.astype({\n",
    "    'form': 'category'\n",
    "})\n",
    "\n",
    "data['date'        ] = pd.to_datetime(data['date'        ])\n",
    "data['oj_date'     ] = pd.to_datetime(data['oj_date'     ])\n",
    "data['of_effect'   ] = pd.to_datetime(data['of_effect'   ])\n",
    "data['end_validity'] = pd.to_datetime(data['end_validity'])"
   ]
  },
  {
   "cell_type": "markdown",
   "metadata": {},
   "source": [
    "## Basic statistics"
   ]
  },
  {
   "cell_type": "markdown",
   "metadata": {},
   "source": [
    "Number of documents:"
   ]
  },
  {
   "cell_type": "code",
   "execution_count": 57,
   "metadata": {},
   "outputs": [
    {
     "data": {
      "text/plain": [
       "126472"
      ]
     },
     "execution_count": 57,
     "metadata": {},
     "output_type": "execute_result"
    }
   ],
   "source": [
    "len(data)"
   ]
  },
  {
   "cell_type": "markdown",
   "metadata": {},
   "source": [
    "Number of missing elements:"
   ]
  },
  {
   "cell_type": "code",
   "execution_count": 58,
   "metadata": {},
   "outputs": [
    {
     "name": "stdout",
     "output_type": "stream",
     "text": [
      "                     Count    Percent\n",
      "celex                    0   0.000000\n",
      "form                     0   0.000000\n",
      "date                  1990   1.573471\n",
      "title                    2   0.001581\n",
      "oj_date               2929   2.315928\n",
      "of_effect            19308  15.266620\n",
      "end_validity         31480  24.890885\n",
      "addressee            99080  78.341451\n",
      "subject_matter       29250  23.127649\n",
      "directory_codes      37753  29.850876\n",
      "eurovoc_descriptors  33586  26.556076\n",
      "legal_basis           9412   7.441963\n",
      "relationships         1089   0.861060\n",
      "text                     0   0.000000\n"
     ]
    }
   ],
   "source": [
    "total = data.isnull().sum()\n",
    "percent = data.isnull().sum()/data.isnull().count()*100.0\n",
    "missing_data = pd.concat([total, percent], axis=1, keys=['Count', 'Percent'])\n",
    "print(missing_data)"
   ]
  },
  {
   "cell_type": "markdown",
   "metadata": {},
   "source": [
    "### form"
   ]
  },
  {
   "cell_type": "code",
   "execution_count": 59,
   "metadata": {},
   "outputs": [
    {
     "data": {
      "text/plain": [
       "count        126472\n",
       "unique            1\n",
       "top       Agreement\n",
       "freq         126472\n",
       "Name: form, dtype: object"
      ]
     },
     "execution_count": 59,
     "metadata": {},
     "output_type": "execute_result"
    }
   ],
   "source": [
    "data['form'].describe()"
   ]
  },
  {
   "cell_type": "code",
   "execution_count": 60,
   "metadata": {},
   "outputs": [
    {
     "data": {
      "text/plain": [
       "<matplotlib.axes._subplots.AxesSubplot at 0x7f68976f7160>"
      ]
     },
     "execution_count": 60,
     "metadata": {},
     "output_type": "execute_result"
    },
    {
     "data": {
      "image/png": "[encoded data removed]",
      "text/plain": [
       "<Figure size 432x288 with 1 Axes>"
      ]
     },
     "metadata": {
      "needs_background": "light"
     },
     "output_type": "display_data"
    }
   ],
   "source": [
    "data.groupby('form').size().plot(kind='bar', rot=0)"
   ]
  },
  {
   "cell_type": "markdown",
   "metadata": {},
   "source": [
    "### date"
   ]
  },
  {
   "cell_type": "code",
   "execution_count": 61,
   "metadata": {},
   "outputs": [
    {
     "data": {
      "text/plain": [
       "count                           124482\n",
       "mean     1995-03-20 02:01:34.047332096\n",
       "min                1949-09-24 00:00:00\n",
       "25%                1986-06-23 00:00:00\n",
       "50%                1997-03-10 00:00:00\n",
       "75%                2004-04-21 00:00:00\n",
       "max                2013-10-04 00:00:00\n",
       "Name: date, dtype: object"
      ]
     },
     "execution_count": 61,
     "metadata": {},
     "output_type": "execute_result"
    }
   ],
   "source": [
    "data['date'].describe(datetime_is_numeric=True)"
   ]
  },
  {
   "cell_type": "code",
   "execution_count": 62,
   "metadata": {},
   "outputs": [
    {
     "data": {
      "text/plain": [
       "([<matplotlib.axis.YTick at 0x7f68979ee6d0>,\n",
       "  <matplotlib.axis.YTick at 0x7f68979ee040>,\n",
       "  <matplotlib.axis.YTick at 0x7f6897a5f5e0>,\n",
       "  <matplotlib.axis.YTick at 0x7f68994a3580>,\n",
       "  <matplotlib.axis.YTick at 0x7f68994a3df0>,\n",
       "  <matplotlib.axis.YTick at 0x7f68994a3070>,\n",
       "  <matplotlib.axis.YTick at 0x7f6899605220>,\n",
       "  <matplotlib.axis.YTick at 0x7f6899764790>,\n",
       "  <matplotlib.axis.YTick at 0x7f68996384c0>,\n",
       "  <matplotlib.axis.YTick at 0x7f6899627c40>,\n",
       "  <matplotlib.axis.YTick at 0x7f6897adc070>],\n",
       " <a list of 11 Text yticklabel objects>)"
      ]
     },
     "execution_count": 62,
     "metadata": {},
     "output_type": "execute_result"
    },
    {
     "data": {
      "image/png": "[encoded data removed]",
      "text/plain": [
       "<Figure size 576x360 with 1 Axes>"
      ]
     },
     "metadata": {
      "needs_background": "light"
     },
     "output_type": "display_data"
    }
   ],
   "source": [
    "ax = data['date'].hist(bins=65, edgecolor='grey', range=(datetime.date(1949, 1, 1), datetime.date(2014, 1, 1)), figsize=(8,5))\n",
    "ax.xaxis.set_major_locator(mdates.YearLocator(5))\n",
    "ax.xaxis.set_major_formatter(mdates.DateFormatter('%Y'))\n",
    "ax.set_xlim([datetime.date(1949, 1, 1), datetime.date(2014, 1, 1)])\n",
    "ax.set_ylim([0, 5000])\n",
    "plt.xticks(rotation=90)\n",
    "plt.yticks(range(0, 5001, 500))"
   ]
  },
  {
   "cell_type": "markdown",
   "metadata": {},
   "source": [
    "### title"
   ]
  },
  {
   "cell_type": "code",
   "execution_count": 63,
   "metadata": {},
   "outputs": [
    {
     "data": {
      "text/plain": [
       "count                                                126470\n",
       "unique                                               125265\n",
       "top       This corrigendum does not concern the English ...\n",
       "freq                                                     58\n",
       "Name: title, dtype: object"
      ]
     },
     "execution_count": 63,
     "metadata": {},
     "output_type": "execute_result"
    }
   ],
   "source": [
    "data['title'].describe()"
   ]
  },
  {
   "cell_type": "markdown",
   "metadata": {},
   "source": [
    "### oj_date"
   ]
  },
  {
   "cell_type": "code",
   "execution_count": 64,
   "metadata": {},
   "outputs": [
    {
     "data": {
      "text/plain": [
       "count                        123543\n",
       "mean     1995-03-01 20:52:19.739200\n",
       "min             1952-12-30 00:00:00\n",
       "25%             1986-06-21 00:00:00\n",
       "50%             1997-01-25 00:00:00\n",
       "75%             2004-02-27 00:00:00\n",
       "max             2013-10-22 00:00:00\n",
       "Name: oj_date, dtype: object"
      ]
     },
     "execution_count": 64,
     "metadata": {},
     "output_type": "execute_result"
    }
   ],
   "source": [
    "data['oj_date'].describe(datetime_is_numeric=True)"
   ]
  },
  {
   "cell_type": "markdown",
   "metadata": {},
   "source": [
    "### of_effect"
   ]
  },
  {
   "cell_type": "code",
   "execution_count": 65,
   "metadata": {},
   "outputs": [
    {
     "data": {
      "text/plain": [
       "count                           107164\n",
       "mean     1995-09-21 11:55:19.428166272\n",
       "min                1953-01-01 00:00:00\n",
       "25%                1987-10-01 00:00:00\n",
       "50%                1997-06-24 00:00:00\n",
       "75%                2004-05-07 00:00:00\n",
       "max                2017-01-01 00:00:00\n",
       "Name: of_effect, dtype: object"
      ]
     },
     "execution_count": 65,
     "metadata": {},
     "output_type": "execute_result"
    }
   ],
   "source": [
    "data['of_effect'].describe(datetime_is_numeric=True)"
   ]
  },
  {
   "cell_type": "markdown",
   "metadata": {},
   "source": [
    "### end_validity"
   ]
  },
  {
   "cell_type": "code",
   "execution_count": 66,
   "metadata": {},
   "outputs": [
    {
     "data": {
      "text/plain": [
       "count                            94992\n",
       "mean     2032-05-06 06:13:50.419403264\n",
       "min                1954-01-07 00:00:00\n",
       "25%                1988-03-01 00:00:00\n",
       "50%                2002-01-29 12:00:00\n",
       "75%                2100-01-01 00:00:00\n",
       "max                2100-01-01 00:00:00\n",
       "Name: end_validity, dtype: object"
      ]
     },
     "execution_count": 66,
     "metadata": {},
     "output_type": "execute_result"
    }
   ],
   "source": [
    "data['end_validity'].describe(datetime_is_numeric=True)"
   ]
  },
  {
   "cell_type": "markdown",
   "metadata": {},
   "source": [
    "### addressee"
   ]
  },
  {
   "cell_type": "code",
   "execution_count": 67,
   "metadata": {},
   "outputs": [
    {
     "data": {
      "text/plain": [
       "count                 27392\n",
       "unique                 2788\n",
       "top       The Member States\n",
       "freq                  11771\n",
       "Name: addressee, dtype: object"
      ]
     },
     "execution_count": 67,
     "metadata": {},
     "output_type": "execute_result"
    }
   ],
   "source": [
    "data['addressee'].describe()"
   ]
  },
  {
   "cell_type": "markdown",
   "metadata": {},
   "source": [
    "## Histogram Subject - to fix"
   ]
  },
  {
   "cell_type": "code",
   "execution_count": 68,
   "metadata": {},
   "outputs": [
    {
     "data": {
      "text/plain": [
       "Index(['Agricultural structures;Agriculture;Beef and veal;Sheepmeat and goatmeat',\n",
       "       'Cooperation;Fisheries policy',\n",
       "       'Harmonisation of customs law: Community transit;Information and verification',\n",
       "       'Accession;Agriculture;Cereals;Monetary measures in the field of agriculture;Rice',\n",
       "       'Agriculture;Common organisation of agricultural markets',\n",
       "       'Accession;Overseas countries and territories;Regional policy',\n",
       "       'Common organisation of agricultural markets;Products of Annex II EEC Treaty and Regulation No 827/68',\n",
       "       'Agriculture;Beef and veal;CCT: derogations;Quotas - third countries',\n",
       "       'Information and verification;Milk products',\n",
       "       'European Free Trade Association (EFTA);Social provisions'],\n",
       "      dtype='object')"
      ]
     },
     "execution_count": 68,
     "metadata": {},
     "output_type": "execute_result"
    }
   ],
   "source": [
    "# df.groupby('subject_matter').size(3).plot(kind='bar', rot=0)\n",
    "data['subject_matter'].value_counts()[data['subject_matter'].value_counts().head(10)].index"
   ]
  },
  {
   "cell_type": "code",
   "execution_count": null,
   "metadata": {},
   "outputs": [],
   "source": []
  }
 ],
 "metadata": {
  "interpreter": {
   "hash": "916dbcbb3f70747c44a77c7bcd40155683ae19c65e1c03b4aa3499c5328201f1"
  },
  "kernelspec": {
   "display_name": "Python 3.8.10 64-bit",
   "name": "python3"
  },
  "language_info": {
   "codemirror_mode": {
    "name": "ipython",
    "version": 3
   },
   "file_extension": ".py",
   "mimetype": "text/x-python",
   "name": "python",
   "nbconvert_exporter": "python",
   "pygments_lexer": "ipython3",
   "version": "3.8.10"
  }
 },
 "nbformat": 4,
 "nbformat_minor": 4
}
