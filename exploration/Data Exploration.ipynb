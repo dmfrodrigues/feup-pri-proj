{
 "cells": [
  {
   "cell_type": "code",
   "execution_count": 36,
   "metadata": {},
   "outputs": [],
   "source": [
    "import pandas as pd\n",
    "import matplotlib.pyplot as plt\n",
    "import matplotlib.dates as mdates\n",
    "import seaborn as sns\n",
    "import numpy as np\n",
    "import datetime"
   ]
  },
  {
   "cell_type": "markdown",
   "metadata": {},
   "source": [
    "# Data Exploration\n",
    "\n",
    "Let's start by importing the data:"
   ]
  },
  {
   "cell_type": "code",
   "execution_count": 37,
   "metadata": {},
   "outputs": [],
   "source": [
    "data = pd.read_csv(\"../data/eurlex/combined.csv\", sep=\",\", quotechar=\"'\")\n",
    "data = data.astype({\n",
    "    'form': 'category'\n",
    "})\n",
    "\n",
    "data['date'        ] = pd.to_datetime(data['date'        ])\n",
    "data['oj_date'     ] = pd.to_datetime(data['oj_date'     ])\n",
    "data['of_effect'   ] = pd.to_datetime(data['of_effect'   ])\n",
    "data['end_validity'] = pd.to_datetime(data['end_validity'])"
   ]
  },
  {
   "cell_type": "markdown",
   "metadata": {},
   "source": [
    "## Basic statistics"
   ]
  },
  {
   "cell_type": "markdown",
   "metadata": {},
   "source": [
    "Number of documents:"
   ]
  },
  {
   "cell_type": "code",
   "execution_count": 38,
   "metadata": {},
   "outputs": [
    {
     "data": {
      "text/plain": [
       "126472"
      ]
     },
     "execution_count": 38,
     "metadata": {},
     "output_type": "execute_result"
    }
   ],
   "source": [
    "len(data)"
   ]
  },
  {
   "cell_type": "markdown",
   "metadata": {},
   "source": [
    "Number of missing elements:"
   ]
  },
  {
   "cell_type": "code",
   "execution_count": 39,
   "metadata": {},
   "outputs": [
    {
     "name": "stdout",
     "output_type": "stream",
     "text": [
      "                     Count    Percent\n",
      "celex                    0   0.000000\n",
      "form                     0   0.000000\n",
      "date                  1990   1.573471\n",
      "title                    2   0.001581\n",
      "oj_date               2929   2.315928\n",
      "of_effect            19308  15.266620\n",
      "end_validity         31480  24.890885\n",
      "addressee            99080  78.341451\n",
      "subject_matter       29250  23.127649\n",
      "directory_codes      37753  29.850876\n",
      "eurovoc_descriptors  33586  26.556076\n",
      "legal_basis           9412   7.441963\n",
      "relationships         1089   0.861060\n",
      "text                     0   0.000000\n"
     ]
    }
   ],
   "source": [
    "total = data.isnull().sum()\n",
    "percent = data.isnull().sum()/data.isnull().count()*100.0\n",
    "missing_data = pd.concat([total, percent], axis=1, keys=['Count', 'Percent'])\n",
    "print(missing_data)"
   ]
  },
  {
   "cell_type": "markdown",
   "metadata": {},
   "source": [
    "### form"
   ]
  },
  {
   "cell_type": "code",
   "execution_count": 40,
   "metadata": {},
   "outputs": [
    {
     "data": {
      "text/plain": [
       "count        126472\n",
       "unique            1\n",
       "top       Agreement\n",
       "freq         126472\n",
       "Name: form, dtype: object"
      ]
     },
     "execution_count": 40,
     "metadata": {},
     "output_type": "execute_result"
    }
   ],
   "source": [
    "data['form'].describe()"
   ]
  },
  {
   "cell_type": "code",
   "execution_count": 41,
   "metadata": {},
   "outputs": [
    {
     "data": {
      "text/plain": [
       "<matplotlib.axes._subplots.AxesSubplot at 0x7f8453c0d3d0>"
      ]
     },
     "execution_count": 41,
     "metadata": {},
     "output_type": "execute_result"
    },
    {
     "data": {
      "image/png": "[encoded data removed]",
      "text/plain": [
       "<Figure size 432x288 with 1 Axes>"
      ]
     },
     "metadata": {
      "needs_background": "light"
     },
     "output_type": "display_data"
    }
   ],
   "source": [
    "data.groupby('form').size().plot(kind='bar', rot=0)"
   ]
  },
  {
   "cell_type": "markdown",
   "metadata": {},
   "source": [
    "### date"
   ]
  },
  {
   "cell_type": "code",
   "execution_count": 42,
   "metadata": {},
   "outputs": [
    {
     "data": {
      "text/plain": [
       "count                           124482\n",
       "mean     1995-03-20 02:01:34.047332096\n",
       "min                1949-09-24 00:00:00\n",
       "25%                1986-06-23 00:00:00\n",
       "50%                1997-03-10 00:00:00\n",
       "75%                2004-04-21 00:00:00\n",
       "max                2013-10-04 00:00:00\n",
       "Name: date, dtype: object"
      ]
     },
     "execution_count": 42,
     "metadata": {},
     "output_type": "execute_result"
    }
   ],
   "source": [
    "data['date'].describe(datetime_is_numeric=True)"
   ]
  },
  {
   "cell_type": "code",
   "execution_count": 43,
   "metadata": {},
   "outputs": [
    {
     "data": {
      "image/png": "[encoded data removed]",
      "text/plain": [
       "<Figure size 576x360 with 1 Axes>"
      ]
     },
     "metadata": {
      "needs_background": "light"
     },
     "output_type": "display_data"
    }
   ],
   "source": [
    "ax = data['date'].hist(bins=65, edgecolor='grey', range=(datetime.date(1949, 1, 1), datetime.date(2014, 1, 1)), figsize=(8,5))\n",
    "ax.xaxis.set_major_locator(mdates.YearLocator(5))\n",
    "ax.xaxis.set_major_formatter(mdates.DateFormatter('%Y'))\n",
    "ax.set_xlim([datetime.date(1949, 1, 1), datetime.date(2014, 1, 1)])\n",
    "ax.set_ylim([0, 5000])\n",
    "plt.title('date')\n",
    "plt.xlabel('Date')\n",
    "plt.ylabel('# of documents')\n",
    "plt.xticks(rotation=90)\n",
    "plt.yticks(range(0, 5001, 500));"
   ]
  },
  {
   "cell_type": "markdown",
   "metadata": {},
   "source": [
    "### title"
   ]
  },
  {
   "cell_type": "code",
   "execution_count": 44,
   "metadata": {},
   "outputs": [
    {
     "data": {
      "text/plain": [
       "count    126470.000000\n",
       "mean        210.570001\n",
       "std          79.375457\n",
       "min           6.000000\n",
       "25%         157.000000\n",
       "50%         199.000000\n",
       "75%         250.000000\n",
       "max        1531.000000\n",
       "Name: title, dtype: float64"
      ]
     },
     "execution_count": 44,
     "metadata": {},
     "output_type": "execute_result"
    }
   ],
   "source": [
    "data['title'].str.len().describe()"
   ]
  },
  {
   "cell_type": "code",
   "execution_count": 45,
   "metadata": {},
   "outputs": [
    {
     "data": {
      "image/png": "[encoded data removed]",
      "text/plain": [
       "<Figure size 576x360 with 1 Axes>"
      ]
     },
     "metadata": {
      "needs_background": "light"
     },
     "output_type": "display_data"
    }
   ],
   "source": [
    "ax = data['title'].str.len().hist(bins=50, edgecolor='grey', range=(0, 1000), figsize=(8,5))\n",
    "ax.set_xlim([0, 1000])\n",
    "ax.set_ylim([0, 16000])\n",
    "plt.title('title length')\n",
    "plt.xlabel('Length (chars)')\n",
    "plt.ylabel('# of documents')\n",
    "plt.xticks(range(0, 1001, 100));"
   ]
  },
  {
   "cell_type": "markdown",
   "metadata": {},
   "source": [
    "### oj_date"
   ]
  },
  {
   "cell_type": "code",
   "execution_count": 46,
   "metadata": {},
   "outputs": [
    {
     "data": {
      "text/plain": [
       "count                        123543\n",
       "mean     1995-03-01 20:52:19.739200\n",
       "min             1952-12-30 00:00:00\n",
       "25%             1986-06-21 00:00:00\n",
       "50%             1997-01-25 00:00:00\n",
       "75%             2004-02-27 00:00:00\n",
       "max             2013-10-22 00:00:00\n",
       "Name: oj_date, dtype: object"
      ]
     },
     "execution_count": 46,
     "metadata": {},
     "output_type": "execute_result"
    }
   ],
   "source": [
    "data['oj_date'].describe(datetime_is_numeric=True)"
   ]
  },
  {
   "cell_type": "code",
   "execution_count": 47,
   "metadata": {},
   "outputs": [
    {
     "data": {
      "image/png": "[encoded data removed]",
      "text/plain": [
       "<Figure size 576x360 with 1 Axes>"
      ]
     },
     "metadata": {
      "needs_background": "light"
     },
     "output_type": "display_data"
    }
   ],
   "source": [
    "ax = data['oj_date'].hist(bins=62, edgecolor='grey', range=(datetime.date(1952, 1, 1), datetime.date(2014, 1, 1)), figsize=(8,5))\n",
    "ax.xaxis.set_major_locator(mdates.YearLocator(5))\n",
    "ax.xaxis.set_major_formatter(mdates.DateFormatter('%Y'))\n",
    "ax.set_xlim([datetime.date(1952, 1, 1), datetime.date(2014, 1, 1)])\n",
    "ax.set_ylim([0, 5000])\n",
    "plt.title('oj_date')\n",
    "plt.xlabel('Date')\n",
    "plt.ylabel('# of documents')\n",
    "plt.xticks(rotation=90)\n",
    "plt.yticks(range(0, 5001, 500));"
   ]
  },
  {
   "cell_type": "markdown",
   "metadata": {},
   "source": [
    "### of_effect"
   ]
  },
  {
   "cell_type": "code",
   "execution_count": 48,
   "metadata": {},
   "outputs": [
    {
     "data": {
      "text/plain": [
       "count                           107164\n",
       "mean     1995-09-21 11:55:19.428166272\n",
       "min                1953-01-01 00:00:00\n",
       "25%                1987-10-01 00:00:00\n",
       "50%                1997-06-24 00:00:00\n",
       "75%                2004-05-07 00:00:00\n",
       "max                2017-01-01 00:00:00\n",
       "Name: of_effect, dtype: object"
      ]
     },
     "execution_count": 48,
     "metadata": {},
     "output_type": "execute_result"
    }
   ],
   "source": [
    "data['of_effect'].describe(datetime_is_numeric=True)"
   ]
  },
  {
   "cell_type": "code",
   "execution_count": 49,
   "metadata": {},
   "outputs": [
    {
     "data": {
      "image/png": "[encoded data removed]",
      "text/plain": [
       "<Figure size 576x360 with 1 Axes>"
      ]
     },
     "metadata": {
      "needs_background": "light"
     },
     "output_type": "display_data"
    }
   ],
   "source": [
    "ax = data['of_effect'].hist(bins=65, edgecolor='grey', range=(datetime.date(1953, 1, 1), datetime.date(2018, 1, 1)), figsize=(8,5))\n",
    "ax.xaxis.set_major_locator(mdates.YearLocator(5))\n",
    "ax.xaxis.set_major_formatter(mdates.DateFormatter('%Y'))\n",
    "ax.set_xlim([datetime.date(1953, 1, 1), datetime.date(2018, 1, 1)])\n",
    "ax.set_ylim([0, 5000])\n",
    "plt.title('oj_date')\n",
    "plt.xlabel('Date')\n",
    "plt.ylabel('# of documents')\n",
    "plt.xticks(rotation=90)\n",
    "plt.yticks(range(0, 5001, 500));"
   ]
  },
  {
   "cell_type": "markdown",
   "metadata": {},
   "source": [
    "### end_validity"
   ]
  },
  {
   "cell_type": "code",
   "execution_count": 50,
   "metadata": {},
   "outputs": [
    {
     "data": {
      "text/plain": [
       "count                            59600\n",
       "mean     1992-03-03 09:24:08.214765056\n",
       "min                1954-01-07 00:00:00\n",
       "25%                1982-12-31 00:00:00\n",
       "50%                1991-11-30 00:00:00\n",
       "75%                2000-02-29 00:00:00\n",
       "max                2058-12-31 00:00:00\n",
       "Name: end_validity, dtype: object"
      ]
     },
     "execution_count": 50,
     "metadata": {},
     "output_type": "execute_result"
    }
   ],
   "source": [
    "valid_end_validity = data[data['end_validity'] != pd.to_datetime(\"2100-01-01\")]['end_validity']\n",
    "valid_end_validity.describe(datetime_is_numeric=True)"
   ]
  },
  {
   "cell_type": "code",
   "execution_count": 51,
   "metadata": {},
   "outputs": [
    {
     "data": {
      "text/plain": [
       "35392"
      ]
     },
     "execution_count": 51,
     "metadata": {},
     "output_type": "execute_result"
    }
   ],
   "source": [
    "invalid_end_validity = data[data['end_validity'] == pd.to_datetime(\"2100-01-01\")]['end_validity']\n",
    "invalid_end_validity.count()"
   ]
  },
  {
   "cell_type": "code",
   "execution_count": 52,
   "metadata": {},
   "outputs": [
    {
     "data": {
      "image/png": "[encoded data removed]",
      "text/plain": [
       "<Figure size 576x360 with 1 Axes>"
      ]
     },
     "metadata": {
      "needs_background": "light"
     },
     "output_type": "display_data"
    }
   ],
   "source": [
    "ax = valid_end_validity.hist(bins=104, edgecolor='grey', range=(datetime.date(1954, 1, 1), datetime.date(2058, 1, 1)), figsize=(8,5))\n",
    "ax.xaxis.set_major_locator(mdates.YearLocator(5))\n",
    "ax.xaxis.set_major_formatter(mdates.DateFormatter('%Y'))\n",
    "ax.set_xlim([datetime.date(1954, 1, 1), datetime.date(2025, 1, 1)])\n",
    "ax.set_ylim([0, 2500])\n",
    "plt.title('end_validity')\n",
    "plt.xlabel('Date')\n",
    "plt.ylabel('# of documents')\n",
    "plt.xticks(rotation=90)\n",
    "plt.yticks(range(0, 2501, 500));"
   ]
  },
  {
   "cell_type": "markdown",
   "metadata": {},
   "source": [
    "### addressee"
   ]
  },
  {
   "cell_type": "code",
   "execution_count": 53,
   "metadata": {},
   "outputs": [
    {
     "data": {
      "text/plain": [
       "count    27392.000000\n",
       "mean        26.002884\n",
       "std         27.599444\n",
       "min          5.000000\n",
       "25%         14.000000\n",
       "50%         17.000000\n",
       "75%         27.000000\n",
       "max        255.000000\n",
       "Name: addressee, dtype: float64"
      ]
     },
     "execution_count": 53,
     "metadata": {},
     "output_type": "execute_result"
    }
   ],
   "source": [
    "data['addressee'].str.len().describe()"
   ]
  },
  {
   "cell_type": "code",
   "execution_count": 54,
   "metadata": {},
   "outputs": [
    {
     "data": {
      "image/png": "[encoded data removed]",
      "text/plain": [
       "<Figure size 576x360 with 1 Axes>"
      ]
     },
     "metadata": {
      "needs_background": "light"
     },
     "output_type": "display_data"
    }
   ],
   "source": [
    "ax = data['addressee'].str.len().hist(bins=30, edgecolor='grey', range=(0, 150), figsize=(8,5))\n",
    "ax.set_xlim([0, 100])\n",
    "ax.set_ylim([0, 16000])\n",
    "plt.title('addressee length')\n",
    "plt.xlabel('Length (chars)')\n",
    "plt.ylabel('# of documents')\n",
    "plt.xticks(range(0, 101, 10));"
   ]
  },
  {
   "cell_type": "markdown",
   "metadata": {},
   "source": [
    "## subject_matter"
   ]
  },
  {
   "cell_type": "code",
   "execution_count": 55,
   "metadata": {},
   "outputs": [
    {
     "data": {
      "text/plain": [
       "count                                                 97222\n",
       "unique                                                 6043\n",
       "top       Competition;Rules applying to undertakings - c...\n",
       "freq                                                   4993\n",
       "Name: subject_matter, dtype: object"
      ]
     },
     "execution_count": 55,
     "metadata": {},
     "output_type": "execute_result"
    }
   ],
   "source": [
    "data['subject_matter'].describe()"
   ]
  },
  {
   "cell_type": "code",
   "execution_count": 56,
   "metadata": {},
   "outputs": [
    {
     "name": "stdout",
     "output_type": "stream",
     "text": [
      "Total Keywords: 227467\n"
     ]
    }
   ],
   "source": [
    "# Group in a single list all keywords\n",
    "keywords = []\n",
    "for element in data['subject_matter']:\n",
    "    if (type(element) == float):\n",
    "        keywords.append('NaN')\n",
    "    else:\n",
    "        for sub_element in element.split(\";\"): # keywords related to a single entry are separated by \";\"\n",
    "            keywords.append(sub_element)\n",
    "        \n",
    "print(\"Total Keywords: {}\".format(len(keywords)))"
   ]
  },
  {
   "cell_type": "code",
   "execution_count": 57,
   "metadata": {},
   "outputs": [
    {
     "name": "stdout",
     "output_type": "stream",
     "text": [
      "Unique Keywords: 251\n",
      "(Excluding NaN) Most frequently used keyword: common commercial policy | 14334 times\n"
     ]
    }
   ],
   "source": [
    "# Get unique keywords and respective frequency\n",
    "unique_keywords, count = np.unique(keywords,return_counts=True)\n",
    "count_sort_ind = np.argsort(-count)\n",
    "\n",
    "print(\"Unique Keywords: {}\".format(len(unique_keywords)))\n",
    "print(\"(Excluding NaN) Most frequently used keyword: {} | {} times\".format(unique_keywords[count_sort_ind][1], count[count_sort_ind][1]))"
   ]
  },
  {
   "cell_type": "code",
   "execution_count": 58,
   "metadata": {},
   "outputs": [],
   "source": [
    "lower_bound = 1 # starting at 1 to skip NaN (because NaN is the most common)\n",
    "upper_bound = 25"
   ]
  },
  {
   "cell_type": "code",
   "execution_count": 59,
   "metadata": {},
   "outputs": [],
   "source": [
    "sub_unique_keywords = unique_keywords[count_sort_ind][lower_bound:upper_bound]"
   ]
  },
  {
   "cell_type": "code",
   "execution_count": 60,
   "metadata": {},
   "outputs": [],
   "source": [
    "sub_count = count[count_sort_ind][lower_bound:upper_bound]"
   ]
  },
  {
   "cell_type": "code",
   "execution_count": 61,
   "metadata": {},
   "outputs": [
    {
     "name": "stdout",
     "output_type": "stream",
     "text": [
      "                                             Keywords  Frequency\n",
      "0                            common commercial policy      14334\n",
      "1                                  External relations      11671\n",
      "2                                         Agriculture      10573\n",
      "3                                         Competition       7111\n",
      "4                                    Fisheries policy       5864\n",
      "5                              Veterinary legislation       5720\n",
      "6     Rules applying to undertakings - concentrations       5013\n",
      "7                                    CCT: derogations       4846\n",
      "8                               Approximation of laws       4842\n",
      "9                                       Milk products       4435\n",
      "10                                            Cereals       4022\n",
      "11                                    Internal market       3864\n",
      "12                                           Food aid       3540\n",
      "13                                        Association       3472\n",
      "14  European Agricultural Guidance and Guarantee F...       3446\n",
      "15                               Fruit and vegetables       3361\n",
      "16              Provisions governing the Institutions       3325\n",
      "17                                          Accession       3233\n",
      "18                                      Beef and veal       3139\n",
      "19                                        Environment       2508\n",
      "20                            Agricultural structures       2449\n",
      "21                                               Wine       2404\n",
      "22                                          Transport       2367\n",
      "23                 Common foreign and security policy       2300\n"
     ]
    }
   ],
   "source": [
    "subject_matter_df = pd.DataFrame({'Keywords' : sub_unique_keywords, 'Frequency' : sub_count})\n",
    "print(subject_matter_df)"
   ]
  },
  {
   "cell_type": "code",
   "execution_count": 62,
   "metadata": {},
   "outputs": [
    {
     "data": {
      "image/png": "[encoded data removed]",
      "text/plain": [
       "<Figure size 432x288 with 1 Axes>"
      ]
     },
     "metadata": {
      "needs_background": "light"
     },
     "output_type": "display_data"
    }
   ],
   "source": [
    "ticks = range(len(sub_count))\n",
    "plt.bar(ticks, sub_count, align='center')\n",
    "plt.xticks(ticks, sub_unique_keywords, rotation='vertical')\n",
    "plt.show()"
   ]
  },
  {
   "cell_type": "markdown",
   "metadata": {},
   "source": [
    "### eurovoc_descriptors"
   ]
  },
  {
   "cell_type": "code",
   "execution_count": 63,
   "metadata": {},
   "outputs": [
    {
     "data": {
      "text/plain": [
       "count                                                 92886\n",
       "unique                                                55410\n",
       "top       agri-monetary policy;citrus fruit;fruit vegeta...\n",
       "freq                                                    683\n",
       "Name: eurovoc_descriptors, dtype: object"
      ]
     },
     "execution_count": 63,
     "metadata": {},
     "output_type": "execute_result"
    }
   ],
   "source": [
    "data['eurovoc_descriptors'].describe()"
   ]
  },
  {
   "cell_type": "code",
   "execution_count": 64,
   "metadata": {},
   "outputs": [
    {
     "name": "stdout",
     "output_type": "stream",
     "text": [
      "Total eurovoc descriptors: 518377\n",
      "Total NaN values: 33586\n"
     ]
    }
   ],
   "source": [
    "# Group in a single list all keywords\n",
    "eurovoc_descriptors = []\n",
    "NaN_counter = 0\n",
    "for element in data['eurovoc_descriptors']:\n",
    "    if (type(element) == float):\n",
    "        NaN_counter += 1\n",
    "        eurovoc_descriptors.append('NaN')\n",
    "    else:\n",
    "        for sub_element in element.split(\";\"): # keywords related to a single entry are separated by \";\"\n",
    "            eurovoc_descriptors.append(sub_element)\n",
    "        \n",
    "print(\"Total eurovoc descriptors: {}\".format(len(eurovoc_descriptors)))\n",
    "print(\"Total NaN values: {}\".format(NaN_counter))"
   ]
  },
  {
   "cell_type": "code",
   "execution_count": 65,
   "metadata": {},
   "outputs": [
    {
     "name": "stdout",
     "output_type": "stream",
     "text": [
      "Unique eurovoc descriptors: 5227\n",
      "(Excluding NaN) Most frequently used eurovoc descriptor: export refund | 9007 times\n"
     ]
    }
   ],
   "source": [
    "# Get unique keywords and respective frequency\n",
    "unique_eurovoc_descriptors, eurovoc_descriptors_count = np.unique(eurovoc_descriptors,return_counts=True)\n",
    "eurovoc_descriptors_count_sort_ind = np.argsort(-eurovoc_descriptors_count)\n",
    "\n",
    "print(\"Unique eurovoc descriptors: {}\".format(len(unique_eurovoc_descriptors)))\n",
    "print(\"(Excluding NaN) Most frequently used eurovoc descriptor: {} | {} times\".format(unique_eurovoc_descriptors[eurovoc_descriptors_count_sort_ind][1], eurovoc_descriptors_count[eurovoc_descriptors_count_sort_ind][1]))"
   ]
  },
  {
   "cell_type": "code",
   "execution_count": 66,
   "metadata": {},
   "outputs": [],
   "source": [
    "lower_bound_ = 1\n",
    "upper_bound_ = 25\n",
    "sub_unique_eurovoc_descriptors = unique_eurovoc_descriptors[eurovoc_descriptors_count_sort_ind][lower_bound_:upper_bound_]\n",
    "sub_eurovoc_descriptors_count = eurovoc_descriptors_count[eurovoc_descriptors_count_sort_ind][lower_bound_:upper_bound_]"
   ]
  },
  {
   "cell_type": "code",
   "execution_count": 67,
   "metadata": {},
   "outputs": [
    {
     "name": "stdout",
     "output_type": "stream",
     "text": [
      "         Eurovoc Descriptors  Frequency\n",
      "0              export refund       9007\n",
      "1                     import       7635\n",
      "2          award of contract       6778\n",
      "3               import price       5006\n",
      "4            fruit vegetable       4974\n",
      "5               citrus fruit       4918\n",
      "6              third country       4538\n",
      "7                  pip fruit       4428\n",
      "8        originating product       4145\n",
      "9               tariff quota       3854\n",
      "10            import licence       3802\n",
      "11                CCT duties       3680\n",
      "12                      rice       3375\n",
      "13                   cereals       3239\n",
      "14              EC agreement       3197\n",
      "15               white sugar       2715\n",
      "16      agri-monetary policy       2639\n",
      "17            health control       2600\n",
      "18                     Spain       2370\n",
      "19                      beef       2346\n",
      "20            export licence       2201\n",
      "21  quantitative restriction       2135\n",
      "22             Community aid       2011\n",
      "23               stone fruit       2008\n"
     ]
    }
   ],
   "source": [
    "eurovoc_descriptors_df = pd.DataFrame({'Eurovoc Descriptors' : sub_unique_eurovoc_descriptors, 'Frequency' : sub_eurovoc_descriptors_count})\n",
    "print(eurovoc_descriptors_df)"
   ]
  },
  {
   "cell_type": "code",
   "execution_count": 68,
   "metadata": {},
   "outputs": [
    {
     "data": {
      "image/png": "[encoded data removed]",
      "text/plain": [
       "<Figure size 432x288 with 1 Axes>"
      ]
     },
     "metadata": {
      "needs_background": "light"
     },
     "output_type": "display_data"
    }
   ],
   "source": [
    "ticks_ = range(len(sub_eurovoc_descriptors_count))\n",
    "plt.bar(ticks_, sub_eurovoc_descriptors_count, align='center')\n",
    "plt.xticks(ticks, sub_unique_eurovoc_descriptors, rotation='vertical')\n",
    "plt.show()"
   ]
  },
  {
   "cell_type": "code",
   "execution_count": null,
   "metadata": {},
   "outputs": [],
   "source": []
  }
 ],
 "metadata": {
  "interpreter": {
   "hash": "916dbcbb3f70747c44a77c7bcd40155683ae19c65e1c03b4aa3499c5328201f1"
  },
  "kernelspec": {
   "display_name": "Python 3",
   "language": "python",
   "name": "python3"
  },
  "language_info": {
   "codemirror_mode": {
    "name": "ipython",
    "version": 3
   },
   "file_extension": ".py",
   "mimetype": "text/x-python",
   "name": "python",
   "nbconvert_exporter": "python",
   "pygments_lexer": "ipython3",
   "version": "3.8.10"
  }
 },
 "nbformat": 4,
 "nbformat_minor": 4
}
